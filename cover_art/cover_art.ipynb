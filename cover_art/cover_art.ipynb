{
 "cells": [
  {
   "cell_type": "code",
   "execution_count": 1,
   "metadata": {},
   "outputs": [],
   "source": [
    "import numpy as np\n",
    "import pandas as pd\n",
    "import matplotlib.pyplot as plt\n",
    "from nxpd import draw\n",
    "from palettable.cmocean.diverging import Curl_20\n",
    "%matplotlib inline"
   ]
  },
  {
   "cell_type": "code",
   "execution_count": 82,
   "metadata": {},
   "outputs": [
    {
     "data": {
      "text/plain": [
       "[<matplotlib.lines.Line2D at 0x1178205f8>]"
      ]
     },
     "execution_count": 82,
     "metadata": {},
     "output_type": "execute_result"
    },
    {
     "data": {
      "image/png": "[encoded data removed]",
      "text/plain": [
       "<matplotlib.figure.Figure at 0x1176440f0>"
      ]
     },
     "metadata": {},
     "output_type": "display_data"
    }
   ],
   "source": [
    "n_nodes = 100\n",
    "nodes = pd.DataFrame(np.array([np.arange(1, n_nodes+1)]).T, columns=['y'])\n",
    "nodes['depth'] = np.floor(np.log2(n_nodes-np.arange(1, n_nodes+1)+1))\n",
    "nodes['x'] = nodes.depth-np.random.rand(n_nodes)\n",
    "cmap = Curl_20.mpl_colormap\n",
    "plt.figure(figsize=(21/2,22.5/2))\n",
    "plt.plot(nodes.x, nodes.y, '.')"
   ]
  },
  {
   "cell_type": "code",
   "execution_count": 93,
   "metadata": {},
   "outputs": [
    {
     "data": {
      "text/plain": [
       "37    5.0\n",
       "38    5.0\n",
       "39    5.0\n",
       "40    5.0\n",
       "41    5.0\n",
       "42    5.0\n",
       "43    5.0\n",
       "44    5.0\n",
       "45    5.0\n",
       "46    5.0\n",
       "47    5.0\n",
       "48    5.0\n",
       "49    5.0\n",
       "50    5.0\n",
       "51    5.0\n",
       "52    5.0\n",
       "53    5.0\n",
       "54    5.0\n",
       "55    5.0\n",
       "56    5.0\n",
       "57    5.0\n",
       "58    5.0\n",
       "59    5.0\n",
       "60    5.0\n",
       "61    5.0\n",
       "62    5.0\n",
       "63    5.0\n",
       "64    5.0\n",
       "65    5.0\n",
       "66    5.0\n",
       "67    5.0\n",
       "68    5.0\n",
       "Name: depth, dtype: float64"
      ]
     },
     "execution_count": 93,
     "metadata": {},
     "output_type": "execute_result"
    }
   ],
   "source": [
    "depths = sorted(list(set(nodes.depth)))\n",
    "nodes.depth[nodes.depth==5]"
   ]
  },
  {
   "cell_type": "code",
   "execution_count": 139,
   "metadata": {},
   "outputs": [
    {
     "name": "stdout",
     "output_type": "stream",
     "text": [
      "32\n",
      "16\n",
      "8\n",
      "4\n",
      "2\n"
     ]
    }
   ],
   "source": [
    "y = np.array([0, 1, -1])\n",
    "for dep in depths[::-1]:\n",
    "    if dep <=1:\n",
    "        pass\n",
    "    else:\n",
    "        spacing = np.linspace(1,dep-1,(2**(dep))/2)\n",
    "        print(len(spacing))\n",
    "        y = np.hstack((y, spacing))\n",
    "        y = np.hstack((y, -spacing))"
   ]
  },
  {
   "cell_type": "code",
   "execution_count": 149,
   "metadata": {},
   "outputs": [],
   "source": [
    "nodes['new_y']=y[:n_nodes][::-1]+np.random.rand(n_nodes)"
   ]
  },
  {
   "cell_type": "code",
   "execution_count": 216,
   "metadata": {},
   "outputs": [],
   "source": [
    "def add_node(node_df, depth, noise=0.1):\n",
    "    x = depth\n",
    "    y = depth*np.random.uniform(-1,1)\n",
    "    node = pd.Series([depth, x, y], index=['depth','x', 'y'])\n",
    "    node_df = node_df.append(node, ignore_index=True)\n",
    "    return node_df\n",
    "\n",
    "def add_edge(edge_df, node1, node2, value):\n",
    "#     edge = np.array([[node1.x, node1.y]])\n",
    "    pass\n",
    "    "
   ]
  },
  {
   "cell_type": "code",
   "execution_count": 228,
   "metadata": {},
   "outputs": [
    {
     "name": "stdout",
     "output_type": "stream",
     "text": [
      "[[ 0]\n",
      " [-1]\n",
      " [-1]]\n",
      "[[ 1 -1  1]\n",
      " [ 0 -1  0]\n",
      " [-1  0  1]\n",
      " [ 1  1  0]\n",
      " [-1  1  0]\n",
      " [ 0 -1  1]\n",
      " [ 0  0  1]\n",
      " [ 0  1 -1]\n",
      " [ 1  1  0]]\n",
      "[[-1  0  1 -1  0  1  0  1  0]\n",
      " [-1 -1 -1 -1  1 -1 -1  1  0]\n",
      " [ 1  0 -1 -1 -1  1  0  1  0]\n",
      " [-1  0 -1  0  0  1  0  1 -1]\n",
      " [ 0  0  1  0  0  0  0 -1  0]\n",
      " [ 1 -1 -1 -1  1 -1 -1 -1  1]\n",
      " [ 0  1  1  0  1 -1  0 -1 -1]\n",
      " [-1  1  0  0 -1  0 -1  1  1]\n",
      " [ 0  0  1  0  1  1  0 -1 -1]\n",
      " [-1  0  0  1  0  1  0 -1  1]\n",
      " [ 0 -1 -1  0  0  1  0 -1  1]\n",
      " [-1  0  1 -1  1  1  0 -1  0]\n",
      " [ 1  1  1 -1  1  1  1 -1 -1]\n",
      " [ 1 -1  1  0  1 -1 -1 -1  0]\n",
      " [-1 -1  0  0  0 -1  0 -1  1]\n",
      " [ 1 -1  0  1  1 -1 -1  1  1]\n",
      " [ 0  1 -1  0 -1  0 -1  0  0]\n",
      " [-1 -1  0 -1  1  0  0 -1  0]\n",
      " [ 1  0  0  0 -1  0 -1 -1  0]\n",
      " [ 0  0  1  0 -1  1  0  0  0]\n",
      " [ 0  0  0 -1  1 -1  1  0  0]\n",
      " [ 0 -1  0  1  1  1  0  1  0]\n",
      " [ 0  1 -1  0  0  0  0  1  1]\n",
      " [ 0 -1  1  1  1 -1 -1  0  0]\n",
      " [-1  0 -1  0 -1 -1  0  0  1]\n",
      " [-1  0  0  0 -1  1 -1  1  1]\n",
      " [ 0  1 -1  0  0  0  1  1  0]]\n",
      "[[ 0 -1  0 ..., -1  1  1]\n",
      " [ 0 -1 -1 ...,  1  1  0]\n",
      " [-1  0 -1 ..., -1  0  0]\n",
      " ..., \n",
      " [ 0  1  0 ..., -1  0 -1]\n",
      " [ 0 -1 -1 ...,  1 -1  1]\n",
      " [ 0 -1  0 ...,  1  0  0]]\n"
     ]
    }
   ],
   "source": [
    "nodes = pd.DataFrame()\n",
    "\n",
    "for depth in range(0, 5):\n",
    "    n_nodes = 3**depth\n",
    "    for n in range(n_nodes):\n",
    "        if depth == 0:\n",
    "            noise = 0\n",
    "        else:\n",
    "            noise = 1\n",
    "        nodes = add_node(nodes, depth, noise)\n",
    "    if depth > 0:\n",
    "        edges = np.random.randint(-1, 2, (n_nodes, int(n_nodes/3)))\n",
    "        edges = edges*edges*edges\n",
    "        print(edges)\n",
    "\n",
    "        "
   ]
  },
  {
   "cell_type": "code",
   "execution_count": 207,
   "metadata": {},
   "outputs": [
    {
     "data": {
      "text/plain": [
       "[<matplotlib.lines.Line2D at 0x118ebe940>]"
      ]
     },
     "execution_count": 207,
     "metadata": {},
     "output_type": "execute_result"
    },
    {
     "data": {
      "image/png": "[encoded data removed]",
      "text/plain": [
       "<matplotlib.figure.Figure at 0x118d9f630>"
      ]
     },
     "metadata": {},
     "output_type": "display_data"
    }
   ],
   "source": [
    "plt.figure(figsize=(21/2,22.5/2))\n",
    "plt.plot(nodes.x, nodes.y, '.')"
   ]
  },
  {
   "cell_type": "code",
   "execution_count": 231,
   "metadata": {},
   "outputs": [],
   "source": [
    "from palettable.cartocolors.qualitative import Bold_7"
   ]
  },
  {
   "cell_type": "code",
   "execution_count": 234,
   "metadata": {},
   "outputs": [
    {
     "data": {
      "text/plain": [
       "[<matplotlib.lines.Line2D at 0x118d1ab70>]"
      ]
     },
     "execution_count": 234,
     "metadata": {},
     "output_type": "execute_result"
    },
    {
     "data": {
      "image/png": "[encoded data removed]",
      "text/plain": [
       "<matplotlib.figure.Figure at 0x118e63278>"
      ]
     },
     "metadata": {},
     "output_type": "display_data"
    }
   ],
   "source": []
  },
  {
   "cell_type": "code",
   "execution_count": null,
   "metadata": {},
   "outputs": [],
   "source": []
  }
 ],
 "metadata": {
  "kernelspec": {
   "display_name": "pyenv",
   "language": "python",
   "name": "pyenv"
  },
  "language_info": {
   "codemirror_mode": {
    "name": "ipython",
    "version": 3
   },
   "file_extension": ".py",
   "mimetype": "text/x-python",
   "name": "python",
   "nbconvert_exporter": "python",
   "pygments_lexer": "ipython3",
   "version": "3.5.2"
  }
 },
 "nbformat": 4,
 "nbformat_minor": 2
}
