{
 "cells": [
  {
   "cell_type": "markdown",
   "metadata": {},
   "source": [
    "## Load necessary packages and definitions"
   ]
  },
  {
   "cell_type": "code",
   "execution_count": 51,
   "metadata": {
    "collapsed": false
   },
   "outputs": [],
   "source": [
    "# load packages\n",
    "import pandas as pd\n",
    "import statsmodels.tsa.stattools as stats\n",
    "import statsmodels.graphics.tsaplots as sg\n",
    "import matplotlib.pyplot as plt\n",
    "import matplotlib\n",
    "%matplotlib inline\n",
    "import sys\n",
    "from datetime import datetime\n",
    "import numpy as np\n",
    "from Swing import Swing\n",
    "from Swing.util.Evaluator import Evaluator\n",
    "import numpy as np\n",
    "\n",
    "import networkx as nx\n",
    "from nxpd import draw\n",
    "from nxpd import nxpdParams\n",
    "nxpdParams['show'] = 'ipynb'\n",
    "\n",
    "sys.path.append(\"../pipelines\")\n",
    "import Pipelines as tdw\n",
    "\n",
    "def get_experiment_list(filename):\n",
    "    # load files\n",
    "    timecourse = pd.read_csv(filename, sep=\"\\t\")\n",
    "    # divide into list of dataframes\n",
    "    experiments = []\n",
    "    for i in range(0,85,21):\n",
    "        experiments.append(timecourse.ix[i:i+20])\n",
    "    #reformat\n",
    "    for idx,exp in enumerate(experiments):\n",
    "        exp = exp.set_index('Time')\n",
    "        experiments[idx]=exp\n",
    "    return(experiments)"
   ]
  },
  {
   "cell_type": "markdown",
   "metadata": {
    "collapsed": true
   },
   "source": [
    "## Run network inference with Swing\n"
   ]
  },
  {
   "cell_type": "code",
   "execution_count": 52,
   "metadata": {
    "collapsed": false
   },
   "outputs": [
    {
     "name": "stdout",
     "output_type": "stream",
     "text": [
      "Running permutation on window 3...\n",
      "Running permutation on window 4...\n",
      "Running permutation on window 5...\n",
      "Running permutation on window 6...\n",
      "Running permutation on window 7...\n",
      "Running permutation on window 8...\n",
      "Running permutation on window 9...\n",
      "Running permutation on window 10...\n",
      "Running permutation on window 11...\n",
      "Compiling all model edges...\n",
      "[DONE]\n",
      "Lumping edges...\n",
      "[DONE]"
     ]
    },
    {
     "name": "stderr",
     "output_type": "stream",
     "text": [
      "/Users/jfinkle/Documents/Northwestern/MoDyLS/Python/Roller/Swing/Swing.py:564: FutureWarning: sort(columns=....) is deprecated, use sort_values(by=.....)\n",
      "  current_df.sort(['adj_imp'], ascending=False, inplace=True)\n",
      "/Users/jfinkle/Documents/Northwestern/MoDyLS/Python/Roller/Swing/Swing.py:692: FutureWarning: sort(columns=....) is deprecated, use sort_values(by=.....)\n",
      "  sort_df.sort(sort_field, ascending=False, inplace=True)\n"
     ]
    },
    {
     "name": "stdout",
     "output_type": "stream",
     "text": [
      "\n",
      "Calculating adj edge importance...\n",
      "[DONE]\n",
      "90\n",
      "Scoring model...\n",
      "[DONE]\n",
      "0.808888888889\n",
      "0.466155561295\n"
     ]
    }
   ],
   "source": [
    "data_folder = \"/projects/p20519/roller_output/optimizing_window_size/RandomForest/insilico_size10_1/\"\n",
    "\n",
    "output_path = \"/home/jjw036/Roller/insilico_size10_1\"\n",
    "\n",
    "current_time = datetime.now().strftime('%Y-%m-%d_%H:%M:%S')\n",
    "save_path = ('./window_size_selection_swing_results.pickle')\n",
    "\n",
    "data_folder = \"../output/insilico_size10_1\"\n",
    "file_path = \"../data/dream4/insilico_size10_1_timeseries.tsv\"\n",
    "run_params = {'data_folder': data_folder,\n",
    "              'file_path':file_path,\n",
    "              'td_window':10,\n",
    "              'min_lag':1,\n",
    "              'max_lag':3,\n",
    "              'n_trees':10,\n",
    "              'permutation_n':10,\n",
    "              'lag_method':'mean_mean',\n",
    "              'calc_mse':False,\n",
    "              'bootstrap_n':100,\n",
    "              'n_trials':1,\n",
    "              'run_time':current_time,\n",
    "              'sort_by':'adj',\n",
    "              'iterating_param':'td_window',\n",
    "              }\n",
    "\n",
    "try:\n",
    "    tdr = pd.read_pickle(save_path)\n",
    "except:\n",
    "    roc,pr, tdr = tdw.get_td_stats(**run_params)\n",
    "    pd.to_pickle(tdr, save_path)"
   ]
  },
  {
   "cell_type": "code",
   "execution_count": 53,
   "metadata": {
    "collapsed": false
   },
   "outputs": [],
   "source": []
  },
  {
   "cell_type": "code",
   "execution_count": 54,
   "metadata": {
    "collapsed": false,
    "scrolled": true
   },
   "outputs": [],
   "source": [
    "#list of nodes = G1..G10\n",
    "nodes = ['G'+str(x) for x in range(1,11)]\n",
    "#convert edge list to list of tuples\n",
    "edges = pd.read_csv(\"../data/dream4/insilico_size10_1_goldstandard.tsv\",sep=\"\\t\",header=None)\n",
    "edges = edges[edges[2] > 0]\n",
    "edges=edges[edges.columns[0:2]]\n",
    "edges = [tuple(x) for x in edges.values]\n",
    "G = nx.DiGraph()\n",
    "G.graph['rankdir'] = 'LR'\n",
    "G.graph['dpi'] = 50\n",
    "\n",
    "\n",
    "G.add_nodes_from(nodes)\n",
    "G.add_edges_from(edges)\n",
    "try:\n",
    "    draw(G)\n",
    "except:\n",
    "    pass"
   ]
  },
  {
   "cell_type": "code",
   "execution_count": 55,
   "metadata": {
    "collapsed": false
   },
   "outputs": [
    {
     "name": "stdout",
     "output_type": "stream",
     "text": [
      "[('G1', 'G2'), ('G1', 'G3'), ('G1', 'G4'), ('G1', 'G5'), ('G3', 'G4'), ('G3', 'G7'), ('G4', 'G3'), ('G6', 'G2'), ('G7', 'G3'), ('G7', 'G4'), ('G8', 'G2'), ('G8', 'G6'), ('G9', 'G10'), ('G10', 'G3'), ('G10', 'G4')]\n"
     ]
    }
   ],
   "source": [
    "## Loading baseline SWING results (uniform windowing)\n",
    "current_gold_standard = file_path.replace(\"timeseries.tsv\",\"goldstandard.tsv\")\n",
    "evaluator = Evaluator(current_gold_standard, '\\t')\n",
    "true_edges = evaluator.gs_flat.tolist()\n",
    "print(true_edges)"
   ]
  },
  {
   "cell_type": "code",
   "execution_count": 56,
   "metadata": {
    "collapsed": false
   },
   "outputs": [
    {
     "name": "stdout",
     "output_type": "stream",
     "text": [
      "Calculating adj edge importance...\n",
      "[DONE]\n",
      "height has been deprecated.\n",
      "\n"
     ]
    },
    {
     "name": "stderr",
     "output_type": "stream",
     "text": [
      "/Users/jfinkle/Documents/Northwestern/MoDyLS/Python/Roller/Swing/Swing.py:692: FutureWarning: sort(columns=....) is deprecated, use sort_values(by=.....)\n",
      "  sort_df.sort(sort_field, ascending=False, inplace=True)\n"
     ]
    },
    {
     "data": {
      "text/html": [
       "<div>\n",
       "<table border=\"1\" class=\"dataframe\">\n",
       "  <thead>\n",
       "    <tr style=\"text-align: right;\">\n",
       "      <th></th>\n",
       "      <th>regulator-target</th>\n",
       "      <th>adj_importance</th>\n",
       "      <th>Correct</th>\n",
       "    </tr>\n",
       "  </thead>\n",
       "  <tbody>\n",
       "    <tr>\n",
       "      <th>0</th>\n",
       "      <td>(G1, G5)</td>\n",
       "      <td>0.12119</td>\n",
       "      <td>True</td>\n",
       "    </tr>\n",
       "    <tr>\n",
       "      <th>1</th>\n",
       "      <td>(G8, G6)</td>\n",
       "      <td>0.09949</td>\n",
       "      <td>True</td>\n",
       "    </tr>\n",
       "    <tr>\n",
       "      <th>2</th>\n",
       "      <td>(G9, G10)</td>\n",
       "      <td>0.09513</td>\n",
       "      <td>True</td>\n",
       "    </tr>\n",
       "    <tr>\n",
       "      <th>3</th>\n",
       "      <td>(G7, G3)</td>\n",
       "      <td>0.08175</td>\n",
       "      <td>True</td>\n",
       "    </tr>\n",
       "    <tr>\n",
       "      <th>4</th>\n",
       "      <td>(G7, G2)</td>\n",
       "      <td>0.06743</td>\n",
       "      <td>False</td>\n",
       "    </tr>\n",
       "    <tr>\n",
       "      <th>5</th>\n",
       "      <td>(G6, G8)</td>\n",
       "      <td>0.06407</td>\n",
       "      <td>False</td>\n",
       "    </tr>\n",
       "    <tr>\n",
       "      <th>6</th>\n",
       "      <td>(G5, G10)</td>\n",
       "      <td>0.05869</td>\n",
       "      <td>False</td>\n",
       "    </tr>\n",
       "    <tr>\n",
       "      <th>7</th>\n",
       "      <td>(G5, G1)</td>\n",
       "      <td>0.05769</td>\n",
       "      <td>False</td>\n",
       "    </tr>\n",
       "    <tr>\n",
       "      <th>8</th>\n",
       "      <td>(G5, G9)</td>\n",
       "      <td>0.05469</td>\n",
       "      <td>False</td>\n",
       "    </tr>\n",
       "    <tr>\n",
       "      <th>9</th>\n",
       "      <td>(G9, G3)</td>\n",
       "      <td>0.04709</td>\n",
       "      <td>False</td>\n",
       "    </tr>\n",
       "    <tr>\n",
       "      <th>10</th>\n",
       "      <td>(G7, G4)</td>\n",
       "      <td>0.03742</td>\n",
       "      <td>True</td>\n",
       "    </tr>\n",
       "    <tr>\n",
       "      <th>11</th>\n",
       "      <td>(G3, G4)</td>\n",
       "      <td>0.03669</td>\n",
       "      <td>True</td>\n",
       "    </tr>\n",
       "    <tr>\n",
       "      <th>12</th>\n",
       "      <td>(G2, G6)</td>\n",
       "      <td>0.03655</td>\n",
       "      <td>False</td>\n",
       "    </tr>\n",
       "    <tr>\n",
       "      <th>13</th>\n",
       "      <td>(G7, G1)</td>\n",
       "      <td>0.03225</td>\n",
       "      <td>False</td>\n",
       "    </tr>\n",
       "    <tr>\n",
       "      <th>14</th>\n",
       "      <td>(G2, G8)</td>\n",
       "      <td>0.03048</td>\n",
       "      <td>False</td>\n",
       "    </tr>\n",
       "    <tr>\n",
       "      <th>15</th>\n",
       "      <td>(G3, G7)</td>\n",
       "      <td>0.03010</td>\n",
       "      <td>True</td>\n",
       "    </tr>\n",
       "    <tr>\n",
       "      <th>16</th>\n",
       "      <td>(G7, G5)</td>\n",
       "      <td>0.02609</td>\n",
       "      <td>False</td>\n",
       "    </tr>\n",
       "    <tr>\n",
       "      <th>17</th>\n",
       "      <td>(G10, G9)</td>\n",
       "      <td>0.02598</td>\n",
       "      <td>False</td>\n",
       "    </tr>\n",
       "    <tr>\n",
       "      <th>18</th>\n",
       "      <td>(G8, G2)</td>\n",
       "      <td>0.02192</td>\n",
       "      <td>True</td>\n",
       "    </tr>\n",
       "    <tr>\n",
       "      <th>19</th>\n",
       "      <td>(G2, G1)</td>\n",
       "      <td>0.02019</td>\n",
       "      <td>False</td>\n",
       "    </tr>\n",
       "    <tr>\n",
       "      <th>20</th>\n",
       "      <td>(G1, G2)</td>\n",
       "      <td>0.02010</td>\n",
       "      <td>True</td>\n",
       "    </tr>\n",
       "    <tr>\n",
       "      <th>21</th>\n",
       "      <td>(G6, G2)</td>\n",
       "      <td>0.01903</td>\n",
       "      <td>True</td>\n",
       "    </tr>\n",
       "    <tr>\n",
       "      <th>22</th>\n",
       "      <td>(G7, G8)</td>\n",
       "      <td>0.01853</td>\n",
       "      <td>False</td>\n",
       "    </tr>\n",
       "    <tr>\n",
       "      <th>23</th>\n",
       "      <td>(G9, G7)</td>\n",
       "      <td>0.01793</td>\n",
       "      <td>False</td>\n",
       "    </tr>\n",
       "    <tr>\n",
       "      <th>24</th>\n",
       "      <td>(G7, G9)</td>\n",
       "      <td>0.01766</td>\n",
       "      <td>False</td>\n",
       "    </tr>\n",
       "    <tr>\n",
       "      <th>25</th>\n",
       "      <td>(G8, G1)</td>\n",
       "      <td>0.01698</td>\n",
       "      <td>False</td>\n",
       "    </tr>\n",
       "    <tr>\n",
       "      <th>26</th>\n",
       "      <td>(G5, G3)</td>\n",
       "      <td>0.01695</td>\n",
       "      <td>False</td>\n",
       "    </tr>\n",
       "    <tr>\n",
       "      <th>27</th>\n",
       "      <td>(G4, G7)</td>\n",
       "      <td>0.01691</td>\n",
       "      <td>False</td>\n",
       "    </tr>\n",
       "    <tr>\n",
       "      <th>28</th>\n",
       "      <td>(G10, G7)</td>\n",
       "      <td>0.01458</td>\n",
       "      <td>False</td>\n",
       "    </tr>\n",
       "    <tr>\n",
       "      <th>29</th>\n",
       "      <td>(G2, G7)</td>\n",
       "      <td>0.01387</td>\n",
       "      <td>False</td>\n",
       "    </tr>\n",
       "    <tr>\n",
       "      <th>30</th>\n",
       "      <td>(G5, G4)</td>\n",
       "      <td>0.01351</td>\n",
       "      <td>False</td>\n",
       "    </tr>\n",
       "    <tr>\n",
       "      <th>31</th>\n",
       "      <td>(G1, G8)</td>\n",
       "      <td>0.01326</td>\n",
       "      <td>False</td>\n",
       "    </tr>\n",
       "    <tr>\n",
       "      <th>32</th>\n",
       "      <td>(G2, G5)</td>\n",
       "      <td>0.01305</td>\n",
       "      <td>False</td>\n",
       "    </tr>\n",
       "    <tr>\n",
       "      <th>33</th>\n",
       "      <td>(G1, G7)</td>\n",
       "      <td>0.01273</td>\n",
       "      <td>False</td>\n",
       "    </tr>\n",
       "    <tr>\n",
       "      <th>34</th>\n",
       "      <td>(G6, G4)</td>\n",
       "      <td>0.01249</td>\n",
       "      <td>False</td>\n",
       "    </tr>\n",
       "    <tr>\n",
       "      <th>35</th>\n",
       "      <td>(G5, G8)</td>\n",
       "      <td>0.01247</td>\n",
       "      <td>False</td>\n",
       "    </tr>\n",
       "    <tr>\n",
       "      <th>36</th>\n",
       "      <td>(G5, G7)</td>\n",
       "      <td>0.01194</td>\n",
       "      <td>False</td>\n",
       "    </tr>\n",
       "    <tr>\n",
       "      <th>37</th>\n",
       "      <td>(G1, G9)</td>\n",
       "      <td>0.01171</td>\n",
       "      <td>False</td>\n",
       "    </tr>\n",
       "    <tr>\n",
       "      <th>38</th>\n",
       "      <td>(G9, G4)</td>\n",
       "      <td>0.01104</td>\n",
       "      <td>False</td>\n",
       "    </tr>\n",
       "    <tr>\n",
       "      <th>39</th>\n",
       "      <td>(G1, G4)</td>\n",
       "      <td>0.01094</td>\n",
       "      <td>True</td>\n",
       "    </tr>\n",
       "    <tr>\n",
       "      <th>40</th>\n",
       "      <td>(G8, G4)</td>\n",
       "      <td>0.01088</td>\n",
       "      <td>False</td>\n",
       "    </tr>\n",
       "    <tr>\n",
       "      <th>41</th>\n",
       "      <td>(G8, G3)</td>\n",
       "      <td>0.01080</td>\n",
       "      <td>False</td>\n",
       "    </tr>\n",
       "    <tr>\n",
       "      <th>42</th>\n",
       "      <td>(G4, G3)</td>\n",
       "      <td>0.01077</td>\n",
       "      <td>True</td>\n",
       "    </tr>\n",
       "    <tr>\n",
       "      <th>43</th>\n",
       "      <td>(G10, G3)</td>\n",
       "      <td>0.01077</td>\n",
       "      <td>True</td>\n",
       "    </tr>\n",
       "    <tr>\n",
       "      <th>44</th>\n",
       "      <td>(G10, G4)</td>\n",
       "      <td>0.01071</td>\n",
       "      <td>True</td>\n",
       "    </tr>\n",
       "    <tr>\n",
       "      <th>45</th>\n",
       "      <td>(G9, G2)</td>\n",
       "      <td>0.01009</td>\n",
       "      <td>False</td>\n",
       "    </tr>\n",
       "    <tr>\n",
       "      <th>46</th>\n",
       "      <td>(G5, G6)</td>\n",
       "      <td>0.00965</td>\n",
       "      <td>False</td>\n",
       "    </tr>\n",
       "    <tr>\n",
       "      <th>47</th>\n",
       "      <td>(G5, G2)</td>\n",
       "      <td>0.00953</td>\n",
       "      <td>False</td>\n",
       "    </tr>\n",
       "    <tr>\n",
       "      <th>48</th>\n",
       "      <td>(G9, G1)</td>\n",
       "      <td>0.00949</td>\n",
       "      <td>False</td>\n",
       "    </tr>\n",
       "    <tr>\n",
       "      <th>49</th>\n",
       "      <td>(G7, G10)</td>\n",
       "      <td>0.00935</td>\n",
       "      <td>False</td>\n",
       "    </tr>\n",
       "    <tr>\n",
       "      <th>50</th>\n",
       "      <td>(G4, G6)</td>\n",
       "      <td>0.00911</td>\n",
       "      <td>False</td>\n",
       "    </tr>\n",
       "    <tr>\n",
       "      <th>51</th>\n",
       "      <td>(G1, G3)</td>\n",
       "      <td>0.00892</td>\n",
       "      <td>True</td>\n",
       "    </tr>\n",
       "    <tr>\n",
       "      <th>52</th>\n",
       "      <td>(G3, G2)</td>\n",
       "      <td>0.00826</td>\n",
       "      <td>False</td>\n",
       "    </tr>\n",
       "    <tr>\n",
       "      <th>53</th>\n",
       "      <td>(G3, G1)</td>\n",
       "      <td>0.00817</td>\n",
       "      <td>False</td>\n",
       "    </tr>\n",
       "    <tr>\n",
       "      <th>54</th>\n",
       "      <td>(G6, G5)</td>\n",
       "      <td>0.00803</td>\n",
       "      <td>False</td>\n",
       "    </tr>\n",
       "    <tr>\n",
       "      <th>55</th>\n",
       "      <td>(G6, G1)</td>\n",
       "      <td>0.00799</td>\n",
       "      <td>False</td>\n",
       "    </tr>\n",
       "    <tr>\n",
       "      <th>56</th>\n",
       "      <td>(G2, G4)</td>\n",
       "      <td>0.00778</td>\n",
       "      <td>False</td>\n",
       "    </tr>\n",
       "    <tr>\n",
       "      <th>57</th>\n",
       "      <td>(G1, G6)</td>\n",
       "      <td>0.00752</td>\n",
       "      <td>False</td>\n",
       "    </tr>\n",
       "    <tr>\n",
       "      <th>58</th>\n",
       "      <td>(G8, G9)</td>\n",
       "      <td>0.00737</td>\n",
       "      <td>False</td>\n",
       "    </tr>\n",
       "    <tr>\n",
       "      <th>59</th>\n",
       "      <td>(G6, G9)</td>\n",
       "      <td>0.00727</td>\n",
       "      <td>False</td>\n",
       "    </tr>\n",
       "    <tr>\n",
       "      <th>60</th>\n",
       "      <td>(G6, G10)</td>\n",
       "      <td>0.00719</td>\n",
       "      <td>False</td>\n",
       "    </tr>\n",
       "    <tr>\n",
       "      <th>61</th>\n",
       "      <td>(G8, G7)</td>\n",
       "      <td>0.00701</td>\n",
       "      <td>False</td>\n",
       "    </tr>\n",
       "    <tr>\n",
       "      <th>62</th>\n",
       "      <td>(G8, G10)</td>\n",
       "      <td>0.00686</td>\n",
       "      <td>False</td>\n",
       "    </tr>\n",
       "    <tr>\n",
       "      <th>63</th>\n",
       "      <td>(G10, G1)</td>\n",
       "      <td>0.00686</td>\n",
       "      <td>False</td>\n",
       "    </tr>\n",
       "    <tr>\n",
       "      <th>64</th>\n",
       "      <td>(G6, G3)</td>\n",
       "      <td>0.00681</td>\n",
       "      <td>False</td>\n",
       "    </tr>\n",
       "    <tr>\n",
       "      <th>65</th>\n",
       "      <td>(G9, G5)</td>\n",
       "      <td>0.00680</td>\n",
       "      <td>False</td>\n",
       "    </tr>\n",
       "    <tr>\n",
       "      <th>66</th>\n",
       "      <td>(G2, G9)</td>\n",
       "      <td>0.00679</td>\n",
       "      <td>False</td>\n",
       "    </tr>\n",
       "    <tr>\n",
       "      <th>67</th>\n",
       "      <td>(G3, G10)</td>\n",
       "      <td>0.00677</td>\n",
       "      <td>False</td>\n",
       "    </tr>\n",
       "    <tr>\n",
       "      <th>68</th>\n",
       "      <td>(G10, G8)</td>\n",
       "      <td>0.00664</td>\n",
       "      <td>False</td>\n",
       "    </tr>\n",
       "    <tr>\n",
       "      <th>69</th>\n",
       "      <td>(G3, G9)</td>\n",
       "      <td>0.00656</td>\n",
       "      <td>False</td>\n",
       "    </tr>\n",
       "    <tr>\n",
       "      <th>70</th>\n",
       "      <td>(G7, G6)</td>\n",
       "      <td>0.00647</td>\n",
       "      <td>False</td>\n",
       "    </tr>\n",
       "    <tr>\n",
       "      <th>71</th>\n",
       "      <td>(G9, G8)</td>\n",
       "      <td>0.00644</td>\n",
       "      <td>False</td>\n",
       "    </tr>\n",
       "    <tr>\n",
       "      <th>72</th>\n",
       "      <td>(G2, G3)</td>\n",
       "      <td>0.00642</td>\n",
       "      <td>False</td>\n",
       "    </tr>\n",
       "    <tr>\n",
       "      <th>73</th>\n",
       "      <td>(G10, G2)</td>\n",
       "      <td>0.00624</td>\n",
       "      <td>False</td>\n",
       "    </tr>\n",
       "    <tr>\n",
       "      <th>74</th>\n",
       "      <td>(G4, G8)</td>\n",
       "      <td>0.00570</td>\n",
       "      <td>False</td>\n",
       "    </tr>\n",
       "    <tr>\n",
       "      <th>75</th>\n",
       "      <td>(G9, G6)</td>\n",
       "      <td>0.00564</td>\n",
       "      <td>False</td>\n",
       "    </tr>\n",
       "    <tr>\n",
       "      <th>76</th>\n",
       "      <td>(G4, G10)</td>\n",
       "      <td>0.00558</td>\n",
       "      <td>False</td>\n",
       "    </tr>\n",
       "    <tr>\n",
       "      <th>77</th>\n",
       "      <td>(G2, G10)</td>\n",
       "      <td>0.00543</td>\n",
       "      <td>False</td>\n",
       "    </tr>\n",
       "    <tr>\n",
       "      <th>78</th>\n",
       "      <td>(G4, G2)</td>\n",
       "      <td>0.00538</td>\n",
       "      <td>False</td>\n",
       "    </tr>\n",
       "    <tr>\n",
       "      <th>79</th>\n",
       "      <td>(G6, G7)</td>\n",
       "      <td>0.00537</td>\n",
       "      <td>False</td>\n",
       "    </tr>\n",
       "    <tr>\n",
       "      <th>80</th>\n",
       "      <td>(G4, G1)</td>\n",
       "      <td>0.00523</td>\n",
       "      <td>False</td>\n",
       "    </tr>\n",
       "    <tr>\n",
       "      <th>81</th>\n",
       "      <td>(G3, G5)</td>\n",
       "      <td>0.00513</td>\n",
       "      <td>False</td>\n",
       "    </tr>\n",
       "    <tr>\n",
       "      <th>82</th>\n",
       "      <td>(G4, G9)</td>\n",
       "      <td>0.00511</td>\n",
       "      <td>False</td>\n",
       "    </tr>\n",
       "    <tr>\n",
       "      <th>83</th>\n",
       "      <td>(G10, G6)</td>\n",
       "      <td>0.00508</td>\n",
       "      <td>False</td>\n",
       "    </tr>\n",
       "    <tr>\n",
       "      <th>84</th>\n",
       "      <td>(G3, G6)</td>\n",
       "      <td>0.00477</td>\n",
       "      <td>False</td>\n",
       "    </tr>\n",
       "    <tr>\n",
       "      <th>85</th>\n",
       "      <td>(G10, G5)</td>\n",
       "      <td>0.00447</td>\n",
       "      <td>False</td>\n",
       "    </tr>\n",
       "    <tr>\n",
       "      <th>86</th>\n",
       "      <td>(G1, G10)</td>\n",
       "      <td>0.00365</td>\n",
       "      <td>False</td>\n",
       "    </tr>\n",
       "    <tr>\n",
       "      <th>87</th>\n",
       "      <td>(G8, G5)</td>\n",
       "      <td>0.00361</td>\n",
       "      <td>False</td>\n",
       "    </tr>\n",
       "    <tr>\n",
       "      <th>88</th>\n",
       "      <td>(G3, G8)</td>\n",
       "      <td>0.00309</td>\n",
       "      <td>False</td>\n",
       "    </tr>\n",
       "    <tr>\n",
       "      <th>89</th>\n",
       "      <td>(G4, G5)</td>\n",
       "      <td>0.00258</td>\n",
       "      <td>False</td>\n",
       "    </tr>\n",
       "  </tbody>\n",
       "</table>\n",
       "</div>"
      ],
      "text/plain": [
       "   regulator-target  adj_importance Correct\n",
       "0          (G1, G5)         0.12119    True\n",
       "1          (G8, G6)         0.09949    True\n",
       "2         (G9, G10)         0.09513    True\n",
       "3          (G7, G3)         0.08175    True\n",
       "4          (G7, G2)         0.06743   False\n",
       "5          (G6, G8)         0.06407   False\n",
       "6         (G5, G10)         0.05869   False\n",
       "7          (G5, G1)         0.05769   False\n",
       "8          (G5, G9)         0.05469   False\n",
       "9          (G9, G3)         0.04709   False\n",
       "10         (G7, G4)         0.03742    True\n",
       "11         (G3, G4)         0.03669    True\n",
       "12         (G2, G6)         0.03655   False\n",
       "13         (G7, G1)         0.03225   False\n",
       "14         (G2, G8)         0.03048   False\n",
       "15         (G3, G7)         0.03010    True\n",
       "16         (G7, G5)         0.02609   False\n",
       "17        (G10, G9)         0.02598   False\n",
       "18         (G8, G2)         0.02192    True\n",
       "19         (G2, G1)         0.02019   False\n",
       "20         (G1, G2)         0.02010    True\n",
       "21         (G6, G2)         0.01903    True\n",
       "22         (G7, G8)         0.01853   False\n",
       "23         (G9, G7)         0.01793   False\n",
       "24         (G7, G9)         0.01766   False\n",
       "25         (G8, G1)         0.01698   False\n",
       "26         (G5, G3)         0.01695   False\n",
       "27         (G4, G7)         0.01691   False\n",
       "28        (G10, G7)         0.01458   False\n",
       "29         (G2, G7)         0.01387   False\n",
       "30         (G5, G4)         0.01351   False\n",
       "31         (G1, G8)         0.01326   False\n",
       "32         (G2, G5)         0.01305   False\n",
       "33         (G1, G7)         0.01273   False\n",
       "34         (G6, G4)         0.01249   False\n",
       "35         (G5, G8)         0.01247   False\n",
       "36         (G5, G7)         0.01194   False\n",
       "37         (G1, G9)         0.01171   False\n",
       "38         (G9, G4)         0.01104   False\n",
       "39         (G1, G4)         0.01094    True\n",
       "40         (G8, G4)         0.01088   False\n",
       "41         (G8, G3)         0.01080   False\n",
       "42         (G4, G3)         0.01077    True\n",
       "43        (G10, G3)         0.01077    True\n",
       "44        (G10, G4)         0.01071    True\n",
       "45         (G9, G2)         0.01009   False\n",
       "46         (G5, G6)         0.00965   False\n",
       "47         (G5, G2)         0.00953   False\n",
       "48         (G9, G1)         0.00949   False\n",
       "49        (G7, G10)         0.00935   False\n",
       "50         (G4, G6)         0.00911   False\n",
       "51         (G1, G3)         0.00892    True\n",
       "52         (G3, G2)         0.00826   False\n",
       "53         (G3, G1)         0.00817   False\n",
       "54         (G6, G5)         0.00803   False\n",
       "55         (G6, G1)         0.00799   False\n",
       "56         (G2, G4)         0.00778   False\n",
       "57         (G1, G6)         0.00752   False\n",
       "58         (G8, G9)         0.00737   False\n",
       "59         (G6, G9)         0.00727   False\n",
       "60        (G6, G10)         0.00719   False\n",
       "61         (G8, G7)         0.00701   False\n",
       "62        (G8, G10)         0.00686   False\n",
       "63        (G10, G1)         0.00686   False\n",
       "64         (G6, G3)         0.00681   False\n",
       "65         (G9, G5)         0.00680   False\n",
       "66         (G2, G9)         0.00679   False\n",
       "67        (G3, G10)         0.00677   False\n",
       "68        (G10, G8)         0.00664   False\n",
       "69         (G3, G9)         0.00656   False\n",
       "70         (G7, G6)         0.00647   False\n",
       "71         (G9, G8)         0.00644   False\n",
       "72         (G2, G3)         0.00642   False\n",
       "73        (G10, G2)         0.00624   False\n",
       "74         (G4, G8)         0.00570   False\n",
       "75         (G9, G6)         0.00564   False\n",
       "76        (G4, G10)         0.00558   False\n",
       "77        (G2, G10)         0.00543   False\n",
       "78         (G4, G2)         0.00538   False\n",
       "79         (G6, G7)         0.00537   False\n",
       "80         (G4, G1)         0.00523   False\n",
       "81         (G3, G5)         0.00513   False\n",
       "82         (G4, G9)         0.00511   False\n",
       "83        (G10, G6)         0.00508   False\n",
       "84         (G3, G6)         0.00477   False\n",
       "85        (G10, G5)         0.00447   False\n",
       "86        (G1, G10)         0.00365   False\n",
       "87         (G8, G5)         0.00361   False\n",
       "88         (G3, G8)         0.00309   False\n",
       "89         (G4, G5)         0.00258   False"
      ]
     },
     "execution_count": 56,
     "metadata": {},
     "output_type": "execute_result"
    }
   ],
   "source": [
    "#tdr.edge_dict\n",
    "final_edge_list = tdr.make_sort_df(tdr.edge_dict, sort_by=run_params['sort_by'])\n",
    "final_edge_list['Correct'] = final_edge_list['regulator-target'].isin(edges)\n",
    "pd.set_option('display.height', 500)\n",
    "final_edge_list"
   ]
  },
  {
   "cell_type": "code",
   "execution_count": 57,
   "metadata": {
    "collapsed": false
   },
   "outputs": [],
   "source": [
    "experiments=get_experiment_list(\"../data/dream4/insilico_size10_1_timeseries.tsv\")"
   ]
  },
  {
   "cell_type": "markdown",
   "metadata": {
    "collapsed": false
   },
   "source": [
    "## G1->G5 is the highest rank that is true. Let's find out why"
   ]
  },
  {
   "cell_type": "code",
   "execution_count": 58,
   "metadata": {
    "collapsed": false
   },
   "outputs": [
    {
     "data": {
      "image/png": "[encoded data removed]",
      "text/plain": [
       "<matplotlib.figure.Figure at 0x10e9adac8>"
      ]
     },
     "metadata": {},
     "output_type": "display_data"
    }
   ],
   "source": [
    "edge_distribution = tdr.full_edge_list[(tdr.full_edge_list['Parent']=='G1')&(tdr.full_edge_list['Child']=='G5')]\n",
    "pd.set_option('display.width', 500)\n",
    "# print(edge_distribution)\n",
    "fig = plt.figure()\n",
    "\n",
    "ax1 = plt.plot(experiments[0]['G1'], experiments[0]['G5'], '.')"
   ]
  },
  {
   "cell_type": "code",
   "execution_count": 59,
   "metadata": {
    "collapsed": false
   },
   "outputs": [
    {
     "name": "stdout",
     "output_type": "stream",
     "text": [
      "corr= -0.861585851386\n"
     ]
    }
   ],
   "source": [
    "print('corr=',np.corrcoef(experiments[0]['G1'], experiments[0]['G5'])[0,1])"
   ]
  },
  {
   "cell_type": "code",
   "execution_count": 60,
   "metadata": {
    "collapsed": false
   },
   "outputs": [
    {
     "name": "stdout",
     "output_type": "stream",
     "text": [
      "corr= -0.861585851386\n",
      "corr= -0.433215730491\n",
      "corr= -0.827371618791\n",
      "corr= -0.0744039128196\n",
      "corr= -0.17496527711\n"
     ]
    },
    {
     "data": {
      "image/png": "[encoded data removed]",
      "text/plain": [
       "<matplotlib.figure.Figure at 0x10db630b8>"
      ]
     },
     "metadata": {},
     "output_type": "display_data"
    },
    {
     "data": {
      "image/png": "[encoded data removed]",
      "text/plain": [
       "<matplotlib.figure.Figure at 0x10d9c8550>"
      ]
     },
     "metadata": {},
     "output_type": "display_data"
    },
    {
     "data": {
      "image/png": "[encoded data removed]",
      "text/plain": [
       "<matplotlib.figure.Figure at 0x10dff45c0>"
      ]
     },
     "metadata": {},
     "output_type": "display_data"
    },
    {
     "data": {
      "image/png": "[encoded data removed]",
      "text/plain": [
       "<matplotlib.figure.Figure at 0x10ed22320>"
      ]
     },
     "metadata": {},
     "output_type": "display_data"
    },
    {
     "data": {
      "image/png": "[encoded data removed]",
      "text/plain": [
       "<matplotlib.figure.Figure at 0x10eb0d1d0>"
      ]
     },
     "metadata": {},
     "output_type": "display_data"
    }
   ],
   "source": [
    "times = experiments[0].index.values\n",
    "for ii in range(len(experiments)):\n",
    "    plt.figure()\n",
    "    plt.plot(times, experiments[ii]['G1'], times, experiments[ii]['G5'])\n",
    "    plt.legend(['G1', 'G5'], loc='best')\n",
    "    print('corr=',np.corrcoef(experiments[ii]['G1'], experiments[ii]['G5'])[0,1])"
   ]
  },
  {
   "cell_type": "code",
   "execution_count": 61,
   "metadata": {
    "collapsed": false
   },
   "outputs": [
    {
     "name": "stdout",
     "output_type": "stream",
     "text": [
      "corr= -0.923985406115\n",
      "corr= -0.908673217226\n",
      "corr= -0.902848793982\n",
      "corr= -0.897781618385\n",
      "corr= -0.896777708022\n",
      "corr= -0.880900122856\n",
      "corr= -0.841938700311\n",
      "corr= -0.794825287924\n",
      "corr= -0.531013107342\n"
     ]
    },
    {
     "data": {
      "image/png": "[encoded data removed]",
      "text/plain": [
       "<matplotlib.figure.Figure at 0x10ebbe438>"
      ]
     },
     "metadata": {},
     "output_type": "display_data"
    },
    {
     "data": {
      "image/png": "[encoded data removed]",
      "text/plain": [
       "<matplotlib.figure.Figure at 0x10d677400>"
      ]
     },
     "metadata": {},
     "output_type": "display_data"
    },
    {
     "data": {
      "image/png": "[encoded data removed]",
      "text/plain": [
       "<matplotlib.figure.Figure at 0x10e0365f8>"
      ]
     },
     "metadata": {},
     "output_type": "display_data"
    },
    {
     "data": {
      "image/png": "[encoded data removed]",
      "text/plain": [
       "<matplotlib.figure.Figure at 0x10dc44208>"
      ]
     },
     "metadata": {},
     "output_type": "display_data"
    },
    {
     "data": {
      "image/png": "[encoded data removed]",
      "text/plain": [
       "<matplotlib.figure.Figure at 0x10d59d5f8>"
      ]
     },
     "metadata": {},
     "output_type": "display_data"
    },
    {
     "data": {
      "image/png": "[encoded data removed]",
      "text/plain": [
       "<matplotlib.figure.Figure at 0x10d444e48>"
      ]
     },
     "metadata": {},
     "output_type": "display_data"
    },
    {
     "data": {
      "image/png": "[encoded data removed]",
      "text/plain": [
       "<matplotlib.figure.Figure at 0x10d4d45c0>"
      ]
     },
     "metadata": {},
     "output_type": "display_data"
    },
    {
     "data": {
      "image/png": "[encoded data removed]",
      "text/plain": [
       "<matplotlib.figure.Figure at 0x10e81af60>"
      ]
     },
     "metadata": {},
     "output_type": "display_data"
    },
    {
     "data": {
      "image/png": "[encoded data removed]",
      "text/plain": [
       "<matplotlib.figure.Figure at 0x10d6d3d30>"
      ]
     },
     "metadata": {},
     "output_type": "display_data"
    }
   ],
   "source": [
    "corr_list = []\n",
    "for win in tdr.window_list:\n",
    "    plt.figure()\n",
    "    plt.plot(win.data['G1'], win.data['G5'], '.')\n",
    "    current_corr = np.corrcoef(win.data['G1'], win.data['G5'])[0,1]\n",
    "    corr_list.append(current_corr)\n",
    "    print('corr=',current_corr)"
   ]
  },
  {
   "cell_type": "code",
   "execution_count": 62,
   "metadata": {
    "collapsed": false
   },
   "outputs": [
    {
     "name": "stdout",
     "output_type": "stream",
     "text": [
      "overall corr= -0.859287373846\n",
      "median_win_corr= -0.896777708022\n",
      "avg_win_corr= -0.842082662463\n"
     ]
    }
   ],
   "source": [
    "print('overall corr=',np.corrcoef(tdr.norm_data['G1'], tdr.norm_data['G5'])[0,1])\n",
    "print('median_win_corr=', np.median(corr_list))\n",
    "print('avg_win_corr=', np.mean(corr_list))"
   ]
  },
  {
   "cell_type": "code",
   "execution_count": 63,
   "metadata": {
    "collapsed": false,
    "scrolled": true
   },
   "outputs": [
    {
     "name": "stdout",
     "output_type": "stream",
     "text": [
      "   Parent Child     Corr  Abs_corr regulator-target    flipped Correct\n",
      "40     G1    G5 -0.85929   0.85929         (G1, G5)   (G5, G1)    True\n",
      "75     G6    G8 -0.74812   0.74812         (G6, G8)   (G8, G6)    True\n",
      "86     G7    G9  0.58607   0.58607         (G7, G9)   (G9, G7)   False\n",
      "98     G9   G10  0.58205   0.58205        (G9, G10)  (G10, G9)    True\n",
      "62     G3    G7  0.47998   0.47998         (G3, G7)   (G7, G3)    True\n",
      "10     G1    G2  0.47121   0.47121         (G1, G2)   (G2, G1)    True\n",
      "61     G2    G7 -0.45761   0.45761         (G2, G7)   (G7, G2)   False\n",
      "74     G5    G8 -0.42993   0.42993         (G5, G8)   (G8, G5)   False\n",
      "63     G4    G7  0.42709   0.42709         (G4, G7)   (G7, G4)    True\n",
      "54     G5    G6  0.42348   0.42348         (G5, G6)   (G6, G5)   False\n",
      "21     G2    G3 -0.41898   0.41898         (G2, G3)   (G3, G2)   False\n",
      "32     G3    G4  0.41641   0.41641         (G3, G4)   (G4, G3)    True\n",
      "70     G1    G8  0.41365   0.41365         (G1, G8)   (G8, G1)   False\n",
      "53     G4    G6 -0.40787   0.40787         (G4, G6)   (G6, G4)   False\n",
      "41     G2    G5 -0.40262   0.40262         (G2, G5)   (G5, G2)   False\n",
      "73     G4    G8  0.37588   0.37588         (G4, G8)   (G8, G4)   False\n",
      "83     G4    G9  0.37098   0.37098         (G4, G9)   (G9, G4)   False\n",
      "84     G5    G9  0.36204   0.36204         (G5, G9)   (G9, G5)   False\n",
      "81     G2    G9 -0.34458   0.34458         (G2, G9)   (G9, G2)   False\n",
      "82     G3    G9  0.34403   0.34403         (G3, G9)   (G9, G3)   False\n",
      "50     G1    G6 -0.34238   0.34238         (G1, G6)   (G6, G1)   False\n",
      "64     G5    G7  0.30992   0.30992         (G5, G7)   (G7, G5)   False\n",
      "42     G3    G5  0.28176   0.28176         (G3, G5)   (G5, G3)   False\n",
      "92     G3   G10  0.27446   0.27446        (G3, G10)  (G10, G3)    True\n",
      "30     G1    G4  0.27265   0.27265         (G1, G4)   (G4, G1)    True\n",
      "43     G4    G5 -0.27054   0.27054         (G4, G5)   (G5, G4)   False\n",
      "93     G4   G10  0.26329   0.26329        (G4, G10)  (G10, G4)    True\n",
      "80     G1    G9 -0.25672   0.25672         (G1, G9)   (G9, G1)   False\n",
      "20     G1    G3 -0.25160   0.25160         (G1, G3)   (G3, G1)    True\n",
      "94     G5   G10  0.24621   0.24621        (G5, G10)  (G10, G5)   False\n",
      "   regulator-target  adj_importance Correct\n",
      "0          (G1, G5)         0.12119    True\n",
      "1          (G8, G6)         0.09949    True\n",
      "2         (G9, G10)         0.09513    True\n",
      "3          (G7, G3)         0.08175    True\n",
      "4          (G7, G2)         0.06743   False\n",
      "5          (G6, G8)         0.06407   False\n",
      "6         (G5, G10)         0.05869   False\n",
      "7          (G5, G1)         0.05769   False\n",
      "8          (G5, G9)         0.05469   False\n",
      "9          (G9, G3)         0.04709   False\n",
      "10         (G7, G4)         0.03742    True\n",
      "11         (G3, G4)         0.03669    True\n",
      "12         (G2, G6)         0.03655   False\n",
      "13         (G7, G1)         0.03225   False\n",
      "14         (G2, G8)         0.03048   False\n",
      "15         (G3, G7)         0.03010    True\n",
      "16         (G7, G5)         0.02609   False\n",
      "17        (G10, G9)         0.02598   False\n",
      "18         (G8, G2)         0.02192    True\n",
      "19         (G2, G1)         0.02019   False\n",
      "20         (G1, G2)         0.02010    True\n",
      "21         (G6, G2)         0.01903    True\n",
      "22         (G7, G8)         0.01853   False\n",
      "23         (G9, G7)         0.01793   False\n",
      "24         (G7, G9)         0.01766   False\n",
      "25         (G8, G1)         0.01698   False\n",
      "26         (G5, G3)         0.01695   False\n",
      "27         (G4, G7)         0.01691   False\n",
      "28        (G10, G7)         0.01458   False\n",
      "29         (G2, G7)         0.01387   False\n"
     ]
    },
    {
     "name": "stderr",
     "output_type": "stream",
     "text": [
      "//anaconda/envs/py35/lib/python3.5/site-packages/ipykernel/__main__.py:14: FutureWarning: sort(columns=....) is deprecated, use sort_values(by=.....)\n"
     ]
    }
   ],
   "source": [
    "overall_corr = np.corrcoef(tdr.norm_data.iloc[:,1:].T)\n",
    "np.fill_diagonal(overall_corr, 0)\n",
    "gene_list = tdr.gene_list\n",
    "correlation_scores = pd.DataFrame(np.tril(overall_corr), index=gene_list, columns=gene_list)\n",
    "parent_index = range(correlation_scores.shape[0])\n",
    "child_index = range(correlation_scores.shape[1])\n",
    "a, b = np.meshgrid(parent_index, child_index)\n",
    "df = pd.DataFrame()\n",
    "df['Parent'] = gene_list[a.flatten()]\n",
    "df['Child'] = gene_list[b.flatten()]\n",
    "df['Corr'] = correlation_scores.values.flatten()\n",
    "df['Abs_corr'] = np.abs(correlation_scores.values.flatten())\n",
    "df = df[df['Corr']!=0]\n",
    "df.sort('Abs_corr', ascending=False, inplace=True)\n",
    "df['regulator-target']= list(zip(df['Parent'], df['Child']))\n",
    "df['flipped'] = [(e[1], e[0]) for e in df['regulator-target'].values]\n",
    "df['Correct'] = (df['regulator-target'].isin(edges) | df['flipped'].isin(edges))\n",
    "print(df[0:30])\n",
    "print(final_edge_list[0:30])"
   ]
  },
  {
   "cell_type": "code",
   "execution_count": 64,
   "metadata": {
    "collapsed": false
   },
   "outputs": [
    {
     "name": "stdout",
     "output_type": "stream",
     "text": [
      "   regulator-target  adj_importance Correct\n",
      "4          (G7, G2)         0.06743   False\n",
      "5          (G6, G8)         0.06407   False\n",
      "6         (G5, G10)         0.05869   False\n",
      "7          (G5, G1)         0.05769   False\n",
      "8          (G5, G9)         0.05469   False\n",
      "9          (G9, G3)         0.04709   False\n",
      "12         (G2, G6)         0.03655   False\n",
      "13         (G7, G1)         0.03225   False\n",
      "14         (G2, G8)         0.03048   False\n",
      "16         (G7, G5)         0.02609   False\n"
     ]
    },
    {
     "data": {
      "text/plain": [
       "[('G1', 'G2'),\n",
       " ('G1', 'G3'),\n",
       " ('G1', 'G4'),\n",
       " ('G1', 'G5'),\n",
       " ('G3', 'G4'),\n",
       " ('G3', 'G7'),\n",
       " ('G4', 'G3'),\n",
       " ('G6', 'G2'),\n",
       " ('G7', 'G3'),\n",
       " ('G7', 'G4'),\n",
       " ('G8', 'G2'),\n",
       " ('G8', 'G6'),\n",
       " ('G9', 'G10'),\n",
       " ('G10', 'G3'),\n",
       " ('G10', 'G4')]"
      ]
     },
     "execution_count": 64,
     "metadata": {},
     "output_type": "execute_result"
    }
   ],
   "source": [
    "print(final_edge_list[~final_edge_list['Correct']][:10])\n",
    "true_edges\n",
    "# G5,G10 - unknown why highly ranked\n",
    "# G6, G8 - This is a flipped edge. The right direction is inferred with higher rank. highly correlated variables. \n",
    "# G9, G3 - indirect edge through G10. Moderate correlation\n",
    "# G5, G1 - This is a flipped edge. The right direction is inferred with higher rank. highly correlated variables. \n",
    "# G2, G6 - This is a flipped edge. The right direction has a slightly lower rank. not well correlated variables.\n",
    "# G7, G2 - Moderate correlation. Maybe some indirect connection through G3, G4, G1, but seems tenuous\n",
    "# G5, G9 - Moderate correlation. unknown why highly ranked\n",
    "# G8, G4 - Moderate correlation. unknown why highly ranked\n",
    "# G5, G3 - Moderate correlation. Share upstream regulator, G1\n",
    "# G2, G8 - This is a flipped edge. The right direction is inferred with higher rank. Moderate correlation\n"
   ]
  },
  {
   "cell_type": "code",
   "execution_count": 66,
   "metadata": {
    "collapsed": false
   },
   "outputs": [
    {
     "data": {
      "text/plain": [
       "[<matplotlib.lines.Line2D at 0x10eae8048>]"
      ]
     },
     "execution_count": 66,
     "metadata": {},
     "output_type": "execute_result"
    },
    {
     "data": {
      "image/png": "[encoded data removed]",
      "text/plain": [
       "<matplotlib.figure.Figure at 0x10ebb1438>"
      ]
     },
     "metadata": {},
     "output_type": "display_data"
    }
   ],
   "source": [
    "tpr, fpr, auroc = evaluator.calc_roc(df)\n",
    "plt.plot(final_edge_list['adj_importance'], '.')"
   ]
  },
  {
   "cell_type": "code",
   "execution_count": 81,
   "metadata": {
    "collapsed": false,
    "scrolled": true
   },
   "outputs": [
    {
     "name": "stdout",
     "output_type": "stream",
     "text": [
      "   Parent Child    Corr  Abs_corr regulator-target    flipped Correct\n",
      "94     G5   G10 0.24621   0.24621        (G5, G10)  (G10, G5)   False\n"
     ]
    },
    {
     "data": {
      "text/html": [
       "<div>\n",
       "<table border=\"1\" class=\"dataframe\">\n",
       "  <thead>\n",
       "    <tr style=\"text-align: right;\">\n",
       "      <th></th>\n",
       "      <th>Parent</th>\n",
       "      <th>Child</th>\n",
       "      <th>Importance</th>\n",
       "      <th>P_window</th>\n",
       "      <th>C_window</th>\n",
       "      <th>p_value</th>\n",
       "      <th>adj_imp</th>\n",
       "      <th>Rank</th>\n",
       "      <th>Edge</th>\n",
       "      <th>Lag</th>\n",
       "    </tr>\n",
       "  </thead>\n",
       "  <tbody>\n",
       "    <tr>\n",
       "      <th>5</th>\n",
       "      <td>G1</td>\n",
       "      <td>G5</td>\n",
       "      <td>0.20351</td>\n",
       "      <td>1</td>\n",
       "      <td>3</td>\n",
       "      <td>0.00001</td>\n",
       "      <td>0.20351</td>\n",
       "      <td>5</td>\n",
       "      <td>(G1, G5)</td>\n",
       "      <td>2</td>\n",
       "    </tr>\n",
       "    <tr>\n",
       "      <th>27</th>\n",
       "      <td>G1</td>\n",
       "      <td>G5</td>\n",
       "      <td>0.09329</td>\n",
       "      <td>2</td>\n",
       "      <td>3</td>\n",
       "      <td>0.00257</td>\n",
       "      <td>0.09305</td>\n",
       "      <td>27</td>\n",
       "      <td>(G1, G5)</td>\n",
       "      <td>1</td>\n",
       "    </tr>\n",
       "    <tr>\n",
       "      <th>49</th>\n",
       "      <td>G1</td>\n",
       "      <td>G5</td>\n",
       "      <td>0.07729</td>\n",
       "      <td>0</td>\n",
       "      <td>3</td>\n",
       "      <td>0.20514</td>\n",
       "      <td>0.06144</td>\n",
       "      <td>49</td>\n",
       "      <td>(G1, G5)</td>\n",
       "      <td>3</td>\n",
       "    </tr>\n",
       "    <tr>\n",
       "      <th>315</th>\n",
       "      <td>G1</td>\n",
       "      <td>G5</td>\n",
       "      <td>0.12767</td>\n",
       "      <td>3</td>\n",
       "      <td>4</td>\n",
       "      <td>0.06707</td>\n",
       "      <td>0.11911</td>\n",
       "      <td>15</td>\n",
       "      <td>(G1, G5)</td>\n",
       "      <td>1</td>\n",
       "    </tr>\n",
       "    <tr>\n",
       "      <th>474</th>\n",
       "      <td>G1</td>\n",
       "      <td>G5</td>\n",
       "      <td>0.00872</td>\n",
       "      <td>2</td>\n",
       "      <td>4</td>\n",
       "      <td>0.44202</td>\n",
       "      <td>0.00487</td>\n",
       "      <td>174</td>\n",
       "      <td>(G1, G5)</td>\n",
       "      <td>2</td>\n",
       "    </tr>\n",
       "    <tr>\n",
       "      <th>599</th>\n",
       "      <td>G1</td>\n",
       "      <td>G5</td>\n",
       "      <td>0.00001</td>\n",
       "      <td>1</td>\n",
       "      <td>4</td>\n",
       "      <td>0.11857</td>\n",
       "      <td>0.00001</td>\n",
       "      <td>299</td>\n",
       "      <td>(G1, G5)</td>\n",
       "      <td>3</td>\n",
       "    </tr>\n",
       "    <tr>\n",
       "      <th>623</th>\n",
       "      <td>G1</td>\n",
       "      <td>G5</td>\n",
       "      <td>0.10670</td>\n",
       "      <td>2</td>\n",
       "      <td>5</td>\n",
       "      <td>0.00677</td>\n",
       "      <td>0.10598</td>\n",
       "      <td>23</td>\n",
       "      <td>(G1, G5)</td>\n",
       "      <td>3</td>\n",
       "    </tr>\n",
       "    <tr>\n",
       "      <th>681</th>\n",
       "      <td>G1</td>\n",
       "      <td>G5</td>\n",
       "      <td>0.02058</td>\n",
       "      <td>4</td>\n",
       "      <td>5</td>\n",
       "      <td>0.53360</td>\n",
       "      <td>0.00960</td>\n",
       "      <td>81</td>\n",
       "      <td>(G1, G5)</td>\n",
       "      <td>1</td>\n",
       "    </tr>\n",
       "    <tr>\n",
       "      <th>750</th>\n",
       "      <td>G1</td>\n",
       "      <td>G5</td>\n",
       "      <td>0.01139</td>\n",
       "      <td>3</td>\n",
       "      <td>5</td>\n",
       "      <td>0.53749</td>\n",
       "      <td>0.00527</td>\n",
       "      <td>150</td>\n",
       "      <td>(G1, G5)</td>\n",
       "      <td>2</td>\n",
       "    </tr>\n",
       "    <tr>\n",
       "      <th>903</th>\n",
       "      <td>G1</td>\n",
       "      <td>G5</td>\n",
       "      <td>0.26907</td>\n",
       "      <td>4</td>\n",
       "      <td>6</td>\n",
       "      <td>0.00000</td>\n",
       "      <td>0.26907</td>\n",
       "      <td>3</td>\n",
       "      <td>(G1, G5)</td>\n",
       "      <td>2</td>\n",
       "    </tr>\n",
       "    <tr>\n",
       "      <th>907</th>\n",
       "      <td>G1</td>\n",
       "      <td>G5</td>\n",
       "      <td>0.20467</td>\n",
       "      <td>5</td>\n",
       "      <td>6</td>\n",
       "      <td>0.00004</td>\n",
       "      <td>0.20466</td>\n",
       "      <td>7</td>\n",
       "      <td>(G1, G5)</td>\n",
       "      <td>1</td>\n",
       "    </tr>\n",
       "    <tr>\n",
       "      <th>929</th>\n",
       "      <td>G1</td>\n",
       "      <td>G5</td>\n",
       "      <td>0.09241</td>\n",
       "      <td>3</td>\n",
       "      <td>6</td>\n",
       "      <td>0.11458</td>\n",
       "      <td>0.08182</td>\n",
       "      <td>29</td>\n",
       "      <td>(G1, G5)</td>\n",
       "      <td>3</td>\n",
       "    </tr>\n",
       "    <tr>\n",
       "      <th>1204</th>\n",
       "      <td>G1</td>\n",
       "      <td>G5</td>\n",
       "      <td>0.21878</td>\n",
       "      <td>6</td>\n",
       "      <td>7</td>\n",
       "      <td>0.00000</td>\n",
       "      <td>0.21878</td>\n",
       "      <td>4</td>\n",
       "      <td>(G1, G5)</td>\n",
       "      <td>1</td>\n",
       "    </tr>\n",
       "    <tr>\n",
       "      <th>1217</th>\n",
       "      <td>G1</td>\n",
       "      <td>G5</td>\n",
       "      <td>0.11881</td>\n",
       "      <td>5</td>\n",
       "      <td>7</td>\n",
       "      <td>0.00030</td>\n",
       "      <td>0.11877</td>\n",
       "      <td>17</td>\n",
       "      <td>(G1, G5)</td>\n",
       "      <td>2</td>\n",
       "    </tr>\n",
       "    <tr>\n",
       "      <th>1235</th>\n",
       "      <td>G1</td>\n",
       "      <td>G5</td>\n",
       "      <td>0.08869</td>\n",
       "      <td>4</td>\n",
       "      <td>7</td>\n",
       "      <td>0.19851</td>\n",
       "      <td>0.07108</td>\n",
       "      <td>35</td>\n",
       "      <td>(G1, G5)</td>\n",
       "      <td>3</td>\n",
       "    </tr>\n",
       "    <tr>\n",
       "      <th>1501</th>\n",
       "      <td>G1</td>\n",
       "      <td>G5</td>\n",
       "      <td>0.23655</td>\n",
       "      <td>5</td>\n",
       "      <td>8</td>\n",
       "      <td>0.00000</td>\n",
       "      <td>0.23655</td>\n",
       "      <td>1</td>\n",
       "      <td>(G1, G5)</td>\n",
       "      <td>3</td>\n",
       "    </tr>\n",
       "    <tr>\n",
       "      <th>1506</th>\n",
       "      <td>G1</td>\n",
       "      <td>G5</td>\n",
       "      <td>0.17006</td>\n",
       "      <td>6</td>\n",
       "      <td>8</td>\n",
       "      <td>0.00474</td>\n",
       "      <td>0.16925</td>\n",
       "      <td>6</td>\n",
       "      <td>(G1, G5)</td>\n",
       "      <td>2</td>\n",
       "    </tr>\n",
       "    <tr>\n",
       "      <th>1523</th>\n",
       "      <td>G1</td>\n",
       "      <td>G5</td>\n",
       "      <td>0.09425</td>\n",
       "      <td>7</td>\n",
       "      <td>8</td>\n",
       "      <td>0.00000</td>\n",
       "      <td>0.09425</td>\n",
       "      <td>23</td>\n",
       "      <td>(G1, G5)</td>\n",
       "      <td>1</td>\n",
       "    </tr>\n",
       "    <tr>\n",
       "      <th>1801</th>\n",
       "      <td>G1</td>\n",
       "      <td>G5</td>\n",
       "      <td>0.21133</td>\n",
       "      <td>8</td>\n",
       "      <td>9</td>\n",
       "      <td>0.00004</td>\n",
       "      <td>0.21133</td>\n",
       "      <td>1</td>\n",
       "      <td>(G1, G5)</td>\n",
       "      <td>1</td>\n",
       "    </tr>\n",
       "    <tr>\n",
       "      <th>1824</th>\n",
       "      <td>G1</td>\n",
       "      <td>G5</td>\n",
       "      <td>0.09673</td>\n",
       "      <td>7</td>\n",
       "      <td>9</td>\n",
       "      <td>0.00053</td>\n",
       "      <td>0.09668</td>\n",
       "      <td>24</td>\n",
       "      <td>(G1, G5)</td>\n",
       "      <td>2</td>\n",
       "    </tr>\n",
       "    <tr>\n",
       "      <th>1826</th>\n",
       "      <td>G1</td>\n",
       "      <td>G5</td>\n",
       "      <td>0.09371</td>\n",
       "      <td>6</td>\n",
       "      <td>9</td>\n",
       "      <td>0.01384</td>\n",
       "      <td>0.09241</td>\n",
       "      <td>26</td>\n",
       "      <td>(G1, G5)</td>\n",
       "      <td>3</td>\n",
       "    </tr>\n",
       "    <tr>\n",
       "      <th>2102</th>\n",
       "      <td>G1</td>\n",
       "      <td>G5</td>\n",
       "      <td>0.18672</td>\n",
       "      <td>8</td>\n",
       "      <td>10</td>\n",
       "      <td>0.00409</td>\n",
       "      <td>0.18596</td>\n",
       "      <td>2</td>\n",
       "      <td>(G1, G5)</td>\n",
       "      <td>2</td>\n",
       "    </tr>\n",
       "    <tr>\n",
       "      <th>2104</th>\n",
       "      <td>G1</td>\n",
       "      <td>G5</td>\n",
       "      <td>0.16580</td>\n",
       "      <td>9</td>\n",
       "      <td>10</td>\n",
       "      <td>0.02870</td>\n",
       "      <td>0.16104</td>\n",
       "      <td>4</td>\n",
       "      <td>(G1, G5)</td>\n",
       "      <td>1</td>\n",
       "    </tr>\n",
       "    <tr>\n",
       "      <th>2105</th>\n",
       "      <td>G1</td>\n",
       "      <td>G5</td>\n",
       "      <td>0.15748</td>\n",
       "      <td>7</td>\n",
       "      <td>10</td>\n",
       "      <td>0.02416</td>\n",
       "      <td>0.15368</td>\n",
       "      <td>5</td>\n",
       "      <td>(G1, G5)</td>\n",
       "      <td>3</td>\n",
       "    </tr>\n",
       "    <tr>\n",
       "      <th>2401</th>\n",
       "      <td>G1</td>\n",
       "      <td>G5</td>\n",
       "      <td>0.16645</td>\n",
       "      <td>8</td>\n",
       "      <td>11</td>\n",
       "      <td>0.00000</td>\n",
       "      <td>0.16645</td>\n",
       "      <td>1</td>\n",
       "      <td>(G1, G5)</td>\n",
       "      <td>3</td>\n",
       "    </tr>\n",
       "    <tr>\n",
       "      <th>2410</th>\n",
       "      <td>G1</td>\n",
       "      <td>G5</td>\n",
       "      <td>0.10284</td>\n",
       "      <td>9</td>\n",
       "      <td>11</td>\n",
       "      <td>0.00000</td>\n",
       "      <td>0.10284</td>\n",
       "      <td>10</td>\n",
       "      <td>(G1, G5)</td>\n",
       "      <td>2</td>\n",
       "    </tr>\n",
       "    <tr>\n",
       "      <th>2455</th>\n",
       "      <td>G1</td>\n",
       "      <td>G5</td>\n",
       "      <td>0.03740</td>\n",
       "      <td>10</td>\n",
       "      <td>11</td>\n",
       "      <td>0.07335</td>\n",
       "      <td>0.03465</td>\n",
       "      <td>55</td>\n",
       "      <td>(G1, G5)</td>\n",
       "      <td>1</td>\n",
       "    </tr>\n",
       "  </tbody>\n",
       "</table>\n",
       "</div>"
      ],
      "text/plain": [
       "     Parent Child  Importance  P_window  C_window  p_value  adj_imp  Rank      Edge  Lag\n",
       "5        G1    G5     0.20351         1         3  0.00001  0.20351     5  (G1, G5)    2\n",
       "27       G1    G5     0.09329         2         3  0.00257  0.09305    27  (G1, G5)    1\n",
       "49       G1    G5     0.07729         0         3  0.20514  0.06144    49  (G1, G5)    3\n",
       "315      G1    G5     0.12767         3         4  0.06707  0.11911    15  (G1, G5)    1\n",
       "474      G1    G5     0.00872         2         4  0.44202  0.00487   174  (G1, G5)    2\n",
       "599      G1    G5     0.00001         1         4  0.11857  0.00001   299  (G1, G5)    3\n",
       "623      G1    G5     0.10670         2         5  0.00677  0.10598    23  (G1, G5)    3\n",
       "681      G1    G5     0.02058         4         5  0.53360  0.00960    81  (G1, G5)    1\n",
       "750      G1    G5     0.01139         3         5  0.53749  0.00527   150  (G1, G5)    2\n",
       "903      G1    G5     0.26907         4         6  0.00000  0.26907     3  (G1, G5)    2\n",
       "907      G1    G5     0.20467         5         6  0.00004  0.20466     7  (G1, G5)    1\n",
       "929      G1    G5     0.09241         3         6  0.11458  0.08182    29  (G1, G5)    3\n",
       "1204     G1    G5     0.21878         6         7  0.00000  0.21878     4  (G1, G5)    1\n",
       "1217     G1    G5     0.11881         5         7  0.00030  0.11877    17  (G1, G5)    2\n",
       "1235     G1    G5     0.08869         4         7  0.19851  0.07108    35  (G1, G5)    3\n",
       "1501     G1    G5     0.23655         5         8  0.00000  0.23655     1  (G1, G5)    3\n",
       "1506     G1    G5     0.17006         6         8  0.00474  0.16925     6  (G1, G5)    2\n",
       "1523     G1    G5     0.09425         7         8  0.00000  0.09425    23  (G1, G5)    1\n",
       "1801     G1    G5     0.21133         8         9  0.00004  0.21133     1  (G1, G5)    1\n",
       "1824     G1    G5     0.09673         7         9  0.00053  0.09668    24  (G1, G5)    2\n",
       "1826     G1    G5     0.09371         6         9  0.01384  0.09241    26  (G1, G5)    3\n",
       "2102     G1    G5     0.18672         8        10  0.00409  0.18596     2  (G1, G5)    2\n",
       "2104     G1    G5     0.16580         9        10  0.02870  0.16104     4  (G1, G5)    1\n",
       "2105     G1    G5     0.15748         7        10  0.02416  0.15368     5  (G1, G5)    3\n",
       "2401     G1    G5     0.16645         8        11  0.00000  0.16645     1  (G1, G5)    3\n",
       "2410     G1    G5     0.10284         9        11  0.00000  0.10284    10  (G1, G5)    2\n",
       "2455     G1    G5     0.03740        10        11  0.07335  0.03465    55  (G1, G5)    1"
      ]
     },
     "execution_count": 81,
     "metadata": {},
     "output_type": "execute_result"
    }
   ],
   "source": [
    "print(df[df['regulator-target']==('G5', 'G10')])\n",
    "tdr.full_edge_list[tdr.full_edge_list['Edge']==('G1', 'G5')]"
   ]
  },
  {
   "cell_type": "code",
   "execution_count": 80,
   "metadata": {
    "collapsed": false
   },
   "outputs": [
    {
     "name": "stdout",
     "output_type": "stream",
     "text": [
      "0\n",
      "corr= -0.876290765402\n",
      "1\n",
      "corr= -0.357682991229\n",
      "2\n",
      "corr= 0.311353316749\n",
      "3\n",
      "corr= -0.324109660074\n",
      "4\n",
      "corr= -0.0757701668129\n"
     ]
    },
    {
     "data": {
      "image/png": "[encoded data removed]",
      "text/plain": [
       "<matplotlib.figure.Figure at 0x10d4b8518>"
      ]
     },
     "metadata": {},
     "output_type": "display_data"
    },
    {
     "data": {
      "image/png": "[encoded data removed]",
      "text/plain": [
       "<matplotlib.figure.Figure at 0x10ed24b00>"
      ]
     },
     "metadata": {},
     "output_type": "display_data"
    },
    {
     "data": {
      "image/png": "[encoded data removed]",
      "text/plain": [
       "<matplotlib.figure.Figure at 0x10e9e9eb8>"
      ]
     },
     "metadata": {},
     "output_type": "display_data"
    },
    {
     "data": {
      "image/png": "[encoded data removed]",
      "text/plain": [
       "<matplotlib.figure.Figure at 0x1048ad9b0>"
      ]
     },
     "metadata": {},
     "output_type": "display_data"
    },
    {
     "data": {
      "image/png": "[encoded data removed]",
      "text/plain": [
       "<matplotlib.figure.Figure at 0x10e38ada0>"
      ]
     },
     "metadata": {},
     "output_type": "display_data"
    }
   ],
   "source": [
    "# G5 - G10 is a weird edge. Let's see what is going on\n",
    "for ii in range(len(experiments)):\n",
    "    print(ii)\n",
    "    plt.figure()\n",
    "    plt.plot(experiments[ii]['G5'], experiments[ii-1]['G10'], '.')\n",
    "    plt.legend(['G5', 'G10'], loc='best')\n",
    "    print('corr=',np.corrcoef(experiments[ii]['G5'], experiments[ii-1]['G10'])[0,1])"
   ]
  },
  {
   "cell_type": "code",
   "execution_count": 82,
   "metadata": {
    "collapsed": false
   },
   "outputs": [
    {
     "name": "stdout",
     "output_type": "stream",
     "text": [
      "0\n",
      "corr= 0.235697801628\n",
      "1\n",
      "corr= 0.472689615544\n",
      "2\n",
      "corr= 0.456263825814\n",
      "3\n",
      "corr= 0.405124612315\n",
      "4\n",
      "corr= 0.317019654086\n",
      "5\n",
      "corr= 0.312298155028\n",
      "6\n",
      "corr= 0.269555874958\n",
      "7\n",
      "corr= 0.175147934803\n",
      "8\n",
      "corr= 0.0824612271865\n"
     ]
    },
    {
     "data": {
      "image/png": "[encoded data removed]",
      "text/plain": [
       "<matplotlib.figure.Figure at 0x10d822dd8>"
      ]
     },
     "metadata": {},
     "output_type": "display_data"
    },
    {
     "data": {
      "image/png": "[encoded data removed]",
      "text/plain": [
       "<matplotlib.figure.Figure at 0x10d5fc518>"
      ]
     },
     "metadata": {},
     "output_type": "display_data"
    },
    {
     "data": {
      "image/png": "[encoded data removed]",
      "text/plain": [
       "<matplotlib.figure.Figure at 0x10dcaaf28>"
      ]
     },
     "metadata": {},
     "output_type": "display_data"
    },
    {
     "data": {
      "image/png": "[encoded data removed]",
      "text/plain": [
       "<matplotlib.figure.Figure at 0x10e9cfb70>"
      ]
     },
     "metadata": {},
     "output_type": "display_data"
    },
    {
     "data": {
      "image/png": "[encoded data removed]",
      "text/plain": [
       "<matplotlib.figure.Figure at 0x104ba4f98>"
      ]
     },
     "metadata": {},
     "output_type": "display_data"
    },
    {
     "data": {
      "image/png": "[encoded data removed]",
      "text/plain": [
       "<matplotlib.figure.Figure at 0x10e9cf668>"
      ]
     },
     "metadata": {},
     "output_type": "display_data"
    },
    {
     "data": {
      "image/png": "[encoded data removed]",
      "text/plain": [
       "<matplotlib.figure.Figure at 0x10e9e1e10>"
      ]
     },
     "metadata": {},
     "output_type": "display_data"
    },
    {
     "data": {
      "image/png": "[encoded data removed]",
      "text/plain": [
       "<matplotlib.figure.Figure at 0x10ddc5c88>"
      ]
     },
     "metadata": {},
     "output_type": "display_data"
    },
    {
     "data": {
      "image/png": "[encoded data removed]",
      "text/plain": [
       "<matplotlib.figure.Figure at 0x10e9e9828>"
      ]
     },
     "metadata": {},
     "output_type": "display_data"
    }
   ],
   "source": [
    "corr_list = []\n",
    "for ii, win in enumerate(tdr.window_list):\n",
    "    print(ii)\n",
    "    plt.figure()\n",
    "    plt.plot(win.data['G5'], tdr.window_list[ii-1].data['G10'], '.')\n",
    "    current_corr = np.corrcoef(win.data['G5'], tdr.window_list[ii-1].data['G10'])[0,1]\n",
    "    corr_list.append(current_corr)\n",
    "    print('corr=',current_corr)"
   ]
  },
  {
   "cell_type": "code",
   "execution_count": 72,
   "metadata": {
    "collapsed": false
   },
   "outputs": [
    {
     "data": {
      "text/plain": [
       "Index(['G1', 'G2', 'G3', 'G4', 'G5', 'G6', 'G7', 'G8', 'G9', 'G10'], dtype='object', name='Child')"
      ]
     },
     "execution_count": 72,
     "metadata": {},
     "output_type": "execute_result"
    }
   ],
   "source": [
    "tdr.window_list[5].edge_importance.index"
   ]
  },
  {
   "cell_type": "code",
   "execution_count": null,
   "metadata": {
    "collapsed": true
   },
   "outputs": [],
   "source": []
  }
 ],
 "metadata": {
  "kernelspec": {
   "display_name": "Python 3",
   "language": "python",
   "name": "python3"
  },
  "language_info": {
   "codemirror_mode": {
    "name": "ipython",
    "version": 3
   },
   "file_extension": ".py",
   "mimetype": "text/x-python",
   "name": "python",
   "nbconvert_exporter": "python",
   "pygments_lexer": "ipython3",
   "version": "3.5.1"
  }
 },
 "nbformat": 4,
 "nbformat_minor": 0
}
