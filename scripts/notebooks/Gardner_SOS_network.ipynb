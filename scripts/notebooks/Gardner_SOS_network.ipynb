{
 "cells": [
  {
   "cell_type": "code",
   "execution_count": 2,
   "metadata": {
    "collapsed": false
   },
   "outputs": [
    {
     "name": "stderr",
     "output_type": "stream",
     "text": [
      "//anaconda/lib/python3.5/site-packages/pandas/computation/__init__.py:19: UserWarning: The installed version of numexpr 2.4.4 is not supported in pandas and will be not be used\n",
      "\n",
      "  UserWarning)\n"
     ]
    }
   ],
   "source": [
    "# load packages\n",
    "import pandas as pd\n",
    "import statsmodels.tsa.stattools as stats\n",
    "import statsmodels.graphics.tsaplots as sg\n",
    "import matplotlib.pyplot as plt\n",
    "import matplotlib\n",
    "%matplotlib inline\n",
    "import sys\n",
    "from datetime import datetime\n",
    "import numpy as np\n",
    "import warnings\n",
    "warnings.filterwarnings(\"ignore\")\n",
    "\n",
    "import networkx as nx\n",
    "from nxpd import draw\n",
    "from nxpd import nxpdParams\n",
    "nxpdParams['show'] = 'ipynb'\n",
    "\n",
    "sys.path.append(\"../pipelines\")\n",
    "import Pipelines as tdw"
   ]
  },
  {
   "cell_type": "code",
   "execution_count": 3,
   "metadata": {
    "collapsed": false
   },
   "outputs": [],
   "source": [
    "roc_list = pd.read_pickle('gardner_rf_roc.pkl')\n",
    "pr_list = pd.read_pickle('gardner_rf_pr.pkl')\n",
    "rankings = pd.read_pickle('gardner_rf_rankings.pkl')\n",
    "s_roc_list = pd.read_pickle('gardner_swing_rf_roc.pkl')\n",
    "s_pr_list = pd.read_pickle('gardner_swing_rf_pr.pkl')\n",
    "s_rankings = pd.read_pickle('gardner_swing_rf_rankings.pkl')\n",
    "preexisting = True"
   ]
  },
  {
   "cell_type": "code",
   "execution_count": 4,
   "metadata": {
    "collapsed": false
   },
   "outputs": [],
   "source": [
    "data_folder = \"../data/invitro/\"\n",
    "\n",
    "output_path = \"../data/invitro/\"\n",
    "\n",
    "current_time = datetime.now().strftime('%Y-%m-%d_%H:%M:%S')\n",
    "\n",
    "file_path = \"../data/invitro/gardner_timeseries.tsv\"\n",
    "run_params = {'data_folder': data_folder,\n",
    "              'file_path':file_path,\n",
    "              'td_window':14,\n",
    "              'min_lag':0,\n",
    "              'max_lag':0,\n",
    "              'n_trees':1000,\n",
    "              'permutation_n':None,\n",
    "              'lag_method':'mean_mean',\n",
    "              'calc_mse':False,\n",
    "              'bootstrap_n':1000,\n",
    "              'n_trials':1,\n",
    "              'run_time':current_time,\n",
    "              'sort_by':'rank',\n",
    "              'iterating_param':'td_window',\n",
    "              }\n",
    "\n",
    "if not preexisting:\n",
    "    roc_list =[]\n",
    "    pr_list = []\n",
    "    rankings = []\n",
    "    for ii in range(50):\n",
    "        print(\"Run: \", str(ii))\n",
    "        roc, pr, tdr, edge_list = tdw.get_td_stats(**run_params)\n",
    "        roc_list.append(roc)\n",
    "        pr_list.append(pr)\n",
    "        rankings.append(edge_list)\n",
    "    pd.to_pickle(roc_list, 'gardner_rf_roc.pkl')\n",
    "    pd.to_pickle(pr_list, 'gardner_rf_pr.pkl')\n",
    "    pd.to_pickle(rankings, 'gardner_rf_rankings.pkl')"
   ]
  },
  {
   "cell_type": "code",
   "execution_count": 5,
   "metadata": {
    "collapsed": false
   },
   "outputs": [],
   "source": [
    "data_folder = \"../data/invitro/\"\n",
    "\n",
    "output_path = \"../data/invitro/\"\n",
    "\n",
    "current_time = datetime.now().strftime('%Y-%m-%d_%H:%M:%S')\n",
    "\n",
    "file_path = \"../data/invitro/gardner_timeseries.tsv\"\n",
    "run_params = {'data_folder': data_folder,\n",
    "              'file_path':file_path,\n",
    "              'td_window':10,\n",
    "              'min_lag':0,\n",
    "              'max_lag':1,\n",
    "              'n_trees':1000,\n",
    "              'permutation_n':None,\n",
    "              'lag_method':'mean_mean',\n",
    "              'calc_mse':False,\n",
    "              'bootstrap_n':1000,\n",
    "              'n_trials':1,\n",
    "              'run_time':current_time,\n",
    "              'sort_by':'rank',\n",
    "              'iterating_param':'td_window',\n",
    "              }\n",
    "\n",
    "if not preexisting:\n",
    "    s_roc_list =[]\n",
    "    s_pr_list = []\n",
    "    s_rankings = []\n",
    "    for ii in range(50):\n",
    "        print(\"Run: \", str(ii))\n",
    "        roc, pr, tdr, edge_list = tdw.get_td_stats(**run_params)\n",
    "        s_roc_list.append(roc)\n",
    "        s_pr_list.append(pr)\n",
    "        s_rankings.append(edge_list)\n",
    "\n",
    "    pd.to_pickle(s_roc_list, 'gardner_swing_rf_roc.pkl')\n",
    "    pd.to_pickle(s_pr_list, 'gardner_swing_rf_pr.pkl')\n",
    "    pd.to_pickle(s_rankings, 'gardner_swing_rf_rankings.pkl')"
   ]
  },
  {
   "cell_type": "code",
   "execution_count": 12,
   "metadata": {
    "collapsed": false
   },
   "outputs": [
    {
     "name": "stdout",
     "output_type": "stream",
     "text": [
      "0.755729166667 0.8275 1.09496898691 MannwhitneyuResult(statistic=0.0, pvalue=3.4666982611037811e-18)\n",
      "0.285516127416 0.330085849965 1.1561022943 MannwhitneyuResult(statistic=398.0, pvalue=2.1778243644974499e-09)\n"
     ]
    },
    {
     "data": {
      "image/png": "[encoded data removed]",
      "text/plain": [
       "<matplotlib.figure.Figure at 0x111af80f0>"
      ]
     },
     "metadata": {},
     "output_type": "display_data"
    },
    {
     "data": {
      "image/png": "[encoded data removed]",
      "text/plain": [
       "<matplotlib.figure.Figure at 0x10c7744a8>"
      ]
     },
     "metadata": {},
     "output_type": "display_data"
    }
   ],
   "source": [
    "from scipy.stats import fisher_exact, linregress, ttest_rel, mannwhitneyu\n",
    "plt.boxplot([roc_list, s_roc_list])\n",
    "print(np.mean(roc_list), np.mean(s_roc_list), np.mean(s_roc_list)/np.mean(roc_list),  mannwhitneyu(roc_list, s_roc_list))\n",
    "plt.figure()\n",
    "plt.boxplot([pr_list, s_pr_list])\n",
    "print(np.mean(pr_list), np.mean(s_pr_list), np.mean(s_pr_list)/np.mean(pr_list), mannwhitneyu(pr_list, s_pr_list))"
   ]
  },
  {
   "cell_type": "code",
   "execution_count": 7,
   "metadata": {
    "collapsed": false
   },
   "outputs": [],
   "source": [
    "# Average the rankings together to see if the mean result is better too\n",
    "avg_rank = pd.DataFrame()\n",
    "s_avg_rank = pd.DataFrame()\n",
    "avg_rank['regulator-target'] = rankings[0].sort_values('regulator-target').values[:,0]\n",
    "s_avg_rank['regulator-target'] = s_rankings[0].sort_values('regulator-target').values[:,0]\n",
    "rank = np.array([rankings[ii].sort_values('regulator-target')['Rank'].values for ii in range(len(rankings))]).T\n",
    "avg_rank['rank'] = np.mean(rank, axis=1)\n",
    "s_rank = np.array([s_rankings[ii].sort_values('regulator-target')['Rank'].values for ii in range(len(s_rankings))]).T\n",
    "s_avg_rank['rank'] = np.mean(s_rank, axis=1)"
   ]
  },
  {
   "cell_type": "code",
   "execution_count": 8,
   "metadata": {
    "collapsed": true
   },
   "outputs": [],
   "source": [
    "from Swing.util.Evaluator import Evaluator"
   ]
  },
  {
   "cell_type": "code",
   "execution_count": 9,
   "metadata": {
    "collapsed": false
   },
   "outputs": [
    {
     "name": "stdout",
     "output_type": "stream",
     "text": [
      "0.7578125 0.830729166667\n"
     ]
    }
   ],
   "source": [
    "evaluator = Evaluator(\"../data/invitro/gardner_goldstandard.tsv\", '\\t')\n",
    "auroc = evaluator.calc_roc(avg_rank.sort_values('rank'))[2].values[-1]\n",
    "s_auroc = evaluator.calc_roc(s_avg_rank.sort_values('rank'))[2].values[-1]\n",
    "print(auroc, s_auroc)"
   ]
  },
  {
   "cell_type": "code",
   "execution_count": 10,
   "metadata": {
    "collapsed": false
   },
   "outputs": [
    {
     "data": {
      "image/png": "[encoded data removed]",
      "text/plain": [
       "<IPython.core.display.Image object>"
      ]
     },
     "execution_count": 10,
     "metadata": {},
     "output_type": "execute_result"
    }
   ],
   "source": [
    "dg = nx.DiGraph()\n",
    "dg.add_edges_from(evaluator.gs_flat)\n",
    "draw(dg)"
   ]
  },
  {
   "cell_type": "code",
   "execution_count": null,
   "metadata": {
    "collapsed": true
   },
   "outputs": [],
   "source": []
  }
 ],
 "metadata": {
  "kernelspec": {
   "display_name": "Python 3",
   "language": "python",
   "name": "python3"
  },
  "language_info": {
   "codemirror_mode": {
    "name": "ipython",
    "version": 3
   },
   "file_extension": ".py",
   "mimetype": "text/x-python",
   "name": "python",
   "nbconvert_exporter": "python",
   "pygments_lexer": "ipython3",
   "version": "3.5.2"
  }
 },
 "nbformat": 4,
 "nbformat_minor": 0
}
