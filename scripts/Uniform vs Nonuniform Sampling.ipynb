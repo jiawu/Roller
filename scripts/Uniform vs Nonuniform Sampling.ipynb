{
 "cells": [
  {
   "cell_type": "code",
   "execution_count": 60,
   "metadata": {
    "collapsed": true
   },
   "outputs": [],
   "source": [
    "# Make new datasets\n",
    "import pandas as pd\n",
    "import numpy as np\n",
    "import matplotlib.pyplot as plt\n",
    "import matplotlib\n",
    "%matplotlib inline\n",
    "\n",
    "pd.set_option('display.width', 500)\n",
    "data_file = '../data/dream4/insilico_size10_1_timeseries.tsv'\n",
    "original_df = pd.read_csv(data_file, sep='\\t')\n"
   ]
  },
  {
   "cell_type": "code",
   "execution_count": 61,
   "metadata": {
    "collapsed": false
   },
   "outputs": [
    {
     "data": {
      "text/plain": [
       "<matplotlib.text.Text at 0x1104b3240>"
      ]
     },
     "execution_count": 61,
     "metadata": {},
     "output_type": "execute_result"
    },
    {
     "data": {
      "image/png": "[encoded data removed]",
      "text/plain": [
       "<matplotlib.figure.Figure at 0x11004fc50>"
      ]
     },
     "metadata": {},
     "output_type": "display_data"
    }
   ],
   "source": [
    "timepoints = list(set(original_df.Time))\n",
    "timepoints.sort()\n",
    "num_inc_points = 6\n",
    "non_uniform_tp = [0.0] + [timepoints[2**ii] for ii in range(num_inc_points-1)]\n",
    "plt.plot(non_uniform_tp, '.-')\n",
    "plt.ylabel('Time')"
   ]
  },
  {
   "cell_type": "code",
   "execution_count": 62,
   "metadata": {
    "collapsed": false
   },
   "outputs": [
    {
     "data": {
      "text/plain": [
       "[<matplotlib.lines.Line2D at 0x110745f28>]"
      ]
     },
     "execution_count": 62,
     "metadata": {},
     "output_type": "execute_result"
    },
    {
     "data": {
      "image/png": "[encoded data removed]",
      "text/plain": [
       "<matplotlib.figure.Figure at 0x1104c4b70>"
      ]
     },
     "metadata": {},
     "output_type": "display_data"
    }
   ],
   "source": [
    "uniform_tp = [timepoints[4*ii] for ii in range(num_inc_points)]\n",
    "plt.plot(uniform_tp, '.-')"
   ]
  },
  {
   "cell_type": "code",
   "execution_count": 63,
   "metadata": {
    "collapsed": false
   },
   "outputs": [
    {
     "name": "stdout",
     "output_type": "stream",
     "text": [
      "   Time        G1        G2        G3        G4        G5        G6        G7        G8        G9       G10\n",
      "0     0  0.666511  0.127219  0.355065  0.774572  0.100430  0.275493  0.606785  0.743098  0.665637  0.695064\n",
      "1    50  0.325775  0.121822  0.346411  0.722911  0.192459  0.310764  0.609696  0.756752  0.555414  0.732717\n",
      "2   100  0.177501  0.044359  0.571289  0.586828  0.233350  0.356974  0.464732  0.665699  0.721103  0.671716\n",
      "3   150  0.183885  0.061535  0.484977  0.633821  0.404510  0.337567  0.420007  0.732409  0.640227  0.697043\n",
      "4   200  0.093069  0.139843  0.343555  0.535438  0.558332  0.299423  0.414539  0.677147  0.547874  0.751275\n",
      "    Time        G1        G2        G3        G4        G5        G6        G7        G8        G9       G10\n",
      "0      0  0.666511  0.127219  0.355065  0.774572  0.100430  0.275493  0.606785  0.743098  0.665637  0.695064\n",
      "4    200  0.093069  0.139843  0.343555  0.535438  0.558332  0.299423  0.414539  0.677147  0.547874  0.751275\n",
      "8    400  0.135856  0.118246  0.518874  0.503013  0.671891  0.233323  0.514280  0.608768  0.684362  0.836531\n",
      "12   600  0.554509  0.144317  0.476338  0.623384  0.325796  0.323902  0.419670  0.729920  0.579164  0.602960\n",
      "16   800  0.600229  0.125114  0.352010  0.788427  0.134015  0.342913  0.565246  0.670113  0.754876  0.681408\n",
      "   Time        G1        G2        G3        G4        G5        G6        G7        G8        G9       G10\n",
      "0     0  0.666511  0.127219  0.355065  0.774572  0.100430  0.275493  0.606785  0.743098  0.665637  0.695064\n",
      "1    50  0.325775  0.121822  0.346411  0.722911  0.192459  0.310764  0.609696  0.756752  0.555414  0.732717\n",
      "2   100  0.177501  0.044359  0.571289  0.586828  0.233350  0.356974  0.464732  0.665699  0.721103  0.671716\n",
      "4   200  0.093069  0.139843  0.343555  0.535438  0.558332  0.299423  0.414539  0.677147  0.547874  0.751275\n",
      "8   400  0.135856  0.118246  0.518874  0.503013  0.671891  0.233323  0.514280  0.608768  0.684362  0.836531\n"
     ]
    }
   ],
   "source": [
    "uniform_df = original_df[original_df['Time'].isin(uniform_tp)]\n",
    "nonuniform_df = original_df[original_df['Time'].isin(non_uniform_tp)]\n",
    "print(original_df.head())\n",
    "print(uniform_df.head())\n",
    "print(nonuniform_df.head())"
   ]
  },
  {
   "cell_type": "code",
   "execution_count": 126,
   "metadata": {
    "collapsed": false
   },
   "outputs": [],
   "source": [
    "# Make it into a function for future use\n",
    "def make_subsamples(df, num_inc_points=7):\n",
    "    timepoints = np.sort(np.array(list((set(original_df.Time)))))\n",
    "    spacing = int(np.floor(len(timepoints)/num_inc_points))\n",
    "    uniform_tp = timepoints[[spacing*ii for ii in range(num_inc_points)]]\n",
    "    non_uniform_tp = np.logspace(0,np.log2(spacing*(num_inc_points-1)),num_inc_points,base=2).astype(int)\n",
    "    non_uniform_tp[0] = timepoints[0]\n",
    "    non_uniform_tp = timepoints[non_uniform_tp]\n",
    "    uniform_df = original_df[original_df['Time'].isin(uniform_tp)]\n",
    "    nonuniform_df = original_df[original_df['Time'].isin(non_uniform_tp)]\n",
    "    return uniform_df, nonuniform_df\n",
    "\n",
    "a, b = make_subsamples(original_df, 7)"
   ]
  },
  {
   "cell_type": "code",
   "execution_count": 134,
   "metadata": {
    "collapsed": false
   },
   "outputs": [],
   "source": [
    "insilico_nets = 5\n",
    "u_path = '../data/dream4/uniform_sampling/'\n",
    "nu_path = '../data/dream4/nonuniform_sampling/'\n",
    "for net in range(1,insilico_nets+1):\n",
    "    open_path = '../data/dream4/insilico_size10_%i_timeseries.tsv' %net\n",
    "    raw_df = pd.read_csv(open_path, sep='\\t')\n",
    "    u_df, nu_df = make_subsamples(raw_df)\n",
    "    u_df.to_csv((u_path+'uniform_sampling'+open_path.split('/')[-1]), sep='\\t')\n",
    "    nu_df.to_csv((nu_path+'nonuniform_sampling'+open_path.split('/')[-1]), sep='\\t')"
   ]
  },
  {
   "cell_type": "code",
   "execution_count": null,
   "metadata": {
    "collapsed": true
   },
   "outputs": [],
   "source": []
  }
 ],
 "metadata": {
  "kernelspec": {
   "display_name": "Python 3",
   "language": "python",
   "name": "python3"
  },
  "language_info": {
   "codemirror_mode": {
    "name": "ipython",
    "version": 3
   },
   "file_extension": ".py",
   "mimetype": "text/x-python",
   "name": "python",
   "nbconvert_exporter": "python",
   "pygments_lexer": "ipython3",
   "version": "3.5.1"
  }
 },
 "nbformat": 4,
 "nbformat_minor": 0
}
