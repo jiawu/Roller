{
 "cells": [
  {
   "cell_type": "markdown",
   "metadata": {},
   "source": [
    "# Identifying Promoted Edges Between Different Methodologies"
   ]
  },
  {
   "cell_type": "code",
   "execution_count": 2,
   "metadata": {
    "collapsed": false
   },
   "outputs": [
    {
     "name": "stdout",
     "output_type": "stream",
     "text": [
      "['Time', 'G1', 'G2', 'G3', 'G4', 'G5', 'G6', 'G7', 'G8', 'G9', 'G10']\n",
      "Running permutation on window 3...\n",
      "Running permutation on window 4...\n",
      "Running permutation on window 5...\n",
      "Running permutation on window 6...\n",
      "Running permutation on window 7...\n",
      "Running permutation on window 8...\n",
      "Running permutation on window 9...\n",
      "Running permutation on window 10...\n",
      "Running permutation on window 11...\n",
      "Compiling all model edges...\n",
      "[DONE]\n",
      "Lumping edges...\n",
      "[DONE]"
     ]
    },
    {
     "name": "stderr",
     "output_type": "stream",
     "text": [
      "/Users/jjw036/Roller/Swing/Swing.py:573: FutureWarning: sort(columns=....) is deprecated, use sort_values(by=.....)\n",
      "  current_df.sort(['adj_imp'], ascending=False, inplace=True)\n",
      "/Users/jjw036/Roller/Swing/Swing.py:699: FutureWarning: sort(columns=....) is deprecated, use sort_values(by=.....)\n",
      "  sort_df.sort(sort_field, ascending=True, inplace=True)\n"
     ]
    },
    {
     "name": "stdout",
     "output_type": "stream",
     "text": [
      "\n",
      "Calculating rank edge importance...\n",
      "[DONE]\n",
      "90\n",
      "Scoring model...\n",
      "[DONE]\n",
      "0.856\n",
      "0.448593719053\n"
     ]
    }
   ],
   "source": [
    "# load packages\n",
    "import pandas as pd\n",
    "import statsmodels.tsa.stattools as stats\n",
    "import statsmodels.graphics.tsaplots as sg\n",
    "import matplotlib.pyplot as plt\n",
    "import matplotlib\n",
    "%matplotlib inline\n",
    "import sys\n",
    "from datetime import datetime\n",
    "import numpy as np\n",
    "\n",
    "import networkx as nx\n",
    "from nxpd import draw\n",
    "from nxpd import nxpdParams\n",
    "nxpdParams['show'] = 'ipynb'\n",
    "\n",
    "sys.path.append(\"../pipelines\")\n",
    "import Pipelines as tdw\n",
    "data_folder = \"/projects/p20519/roller_output/optimizing_window_size/RandomForest/insilico_size10_1/\"\n",
    "\n",
    "output_path = \"/home/jjw036/Roller/insilico_size10_1\"\n",
    "\n",
    "current_time = datetime.now().strftime('%Y-%m-%d_%H:%M:%S')\n",
    "\n",
    "data_folder = \"../output/insilico_size10_1\"\n",
    "file_path = \"../data/dream4/insilico_size10_1_timeseries.tsv\"\n",
    "run_params = {'data_folder': data_folder,\n",
    "              'file_path':file_path,\n",
    "              'td_window':10,\n",
    "              'min_lag':1,\n",
    "              'max_lag':3,\n",
    "              'n_trees':10,\n",
    "              'permutation_n':10,\n",
    "              'lag_method':'mean_mean',\n",
    "              'calc_mse':False,\n",
    "              'bootstrap_n':1000,\n",
    "              'n_trials':1,\n",
    "              'run_time':current_time,\n",
    "              'sort_by':'rank',\n",
    "              'iterating_param':'td_window',\n",
    "              'filter_noisy': True,\n",
    "              }\n",
    "            \n",
    "\n",
    "roc,pr, tdr = tdw.get_td_stats(**run_params)"
   ]
  },
  {
   "cell_type": "code",
   "execution_count": 3,
   "metadata": {
    "collapsed": false
   },
   "outputs": [
    {
     "name": "stdout",
     "output_type": "stream",
     "text": [
      "['Time', 'G1', 'G2', 'G3', 'G4', 'G5', 'G6', 'G7', 'G8', 'G9', 'G10']\n",
      "Running permutation on window 3...\n",
      "Running permutation on window 4...\n",
      "Running permutation on window 5...\n",
      "Running permutation on window 6...\n",
      "Running permutation on window 7...\n",
      "Running permutation on window 8...\n",
      "Running permutation on window 9...\n",
      "Running permutation on window 10...\n",
      "Running permutation on window 11...\n",
      "Compiling all model edges...\n",
      "[DONE]\n",
      "Lumping edges...\n",
      "[DONE]"
     ]
    },
    {
     "name": "stderr",
     "output_type": "stream",
     "text": [
      "/Users/jjw036/Roller/Swing/Swing.py:573: FutureWarning: sort(columns=....) is deprecated, use sort_values(by=.....)\n",
      "  current_df.sort(['adj_imp'], ascending=False, inplace=True)\n",
      "/Users/jjw036/Roller/Swing/Swing.py:699: FutureWarning: sort(columns=....) is deprecated, use sort_values(by=.....)\n",
      "  sort_df.sort(sort_field, ascending=True, inplace=True)\n"
     ]
    },
    {
     "name": "stdout",
     "output_type": "stream",
     "text": [
      "\n",
      "Calculating rank edge importance...\n",
      "[DONE]\n",
      "90\n",
      "Scoring model...\n",
      "[DONE]\n",
      "0.828444444444\n",
      "0.380844451202\n"
     ]
    }
   ],
   "source": [
    "run_params2 ={'data_folder': data_folder,\n",
    "              'file_path':file_path,\n",
    "              'td_window':10,\n",
    "              'min_lag':1,\n",
    "              'max_lag':3,\n",
    "              'n_trees':10,\n",
    "              'permutation_n':10,\n",
    "              'lag_method':'mean_mean',\n",
    "              'calc_mse':False,\n",
    "              'bootstrap_n':1000,\n",
    "              'n_trials':1,\n",
    "              'run_time':current_time,\n",
    "              'sort_by':'rank',\n",
    "              'iterating_param':'td_window',\n",
    "              'filter_noisy': False,\n",
    "              }\n",
    "roc,pr, tdr = tdw.get_td_stats(**run_params)"
   ]
  },
  {
   "cell_type": "code",
   "execution_count": 4,
   "metadata": {
    "collapsed": true
   },
   "outputs": [],
   "source": [
    "def plot_acf_exp(exp,experiments,acf_or_pacf='acf'):\n",
    "    fig = plt.figure(figsize=(8,15))\n",
    "    for idx,node in enumerate(nodes):\n",
    "        ax1 = fig.add_subplot(10,1,idx+1)\n",
    "        if acf_or_pacf == 'pacf':\n",
    "            fig = sg.plot_pacf(experiments[exp][node], lags=20, ax=ax1,color='red')\n",
    "        if acf_or_pacf == 'acf':\n",
    "            fig = sg.plot_acf(experiments[exp][node], lags=20, ax=ax1)\n",
    "        ax1.set_title(\"\")\n",
    "        ax1.set_ylabel(node)\n",
    "    fig.suptitle(\"Experiment \" +str(exp))\n",
    "    fig.tight_layout()\n",
    "    return(fig)"
   ]
  },
  {
   "cell_type": "code",
   "execution_count": null,
   "metadata": {
    "collapsed": true
   },
   "outputs": [],
   "source": []
  }
 ],
 "metadata": {
  "kernelspec": {
   "display_name": "Python 3",
   "language": "python",
   "name": "python3"
  },
  "language_info": {
   "codemirror_mode": {
    "name": "ipython",
    "version": 3
   },
   "file_extension": ".py",
   "mimetype": "text/x-python",
   "name": "python",
   "nbconvert_exporter": "python",
   "pygments_lexer": "ipython3",
   "version": "3.4.3"
  }
 },
 "nbformat": 4,
 "nbformat_minor": 0
}
