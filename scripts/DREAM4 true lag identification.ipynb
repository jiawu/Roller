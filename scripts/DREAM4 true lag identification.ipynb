{
 "cells": [
  {
   "cell_type": "code",
   "execution_count": 1,
   "metadata": {
    "collapsed": true
   },
   "outputs": [],
   "source": [
    "import pandas as pd\n",
    "from scipy import stats\n",
    "from statsmodels.tsa.stattools import acf, ccf\n",
    "import matplotlib.pyplot as plt\n",
    "import matplotlib\n",
    "%matplotlib inline\n",
    "import sys\n",
    "from datetime import datetime\n",
    "import numpy as np\n",
    "from Swing import Swing\n",
    "from Swing.util.Evaluator import Evaluator\n",
    "import numpy as np\n"
   ]
  },
  {
   "cell_type": "code",
   "execution_count": 3,
   "metadata": {
    "collapsed": false
   },
   "outputs": [],
   "source": [
    "def get_experiment_list(filename):\n",
    "    # load files\n",
    "    timecourse = pd.read_csv(filename, sep=\"\\t\")\n",
    "    # divide into list of dataframes\n",
    "    experiments = []\n",
    "    for i in range(0,85,21):\n",
    "        experiments.append(timecourse.ix[i:i+20])\n",
    "    #reformat\n",
    "    for idx,exp in enumerate(experiments):\n",
    "        exp = exp.set_index('Time')\n",
    "        experiments[idx]=exp\n",
    "    return(experiments)\n",
    "\n",
    "def identify_lags(experiments, true_edges, swing_obj, perturb_idx=0, auto_len=10, p_thresh=0.05):\n",
    "    for ee, experiment in enumerate(experiments):\n",
    "        for parent, child in true_edges:\n",
    "            data_df = pd.DataFrame()\n",
    "            data_df['Parent'] = experiment[parent]\n",
    "            data_df['Child'] = experiment[child]\n",
    "            auto_parent = acf(data_df['Parent'])\n",
    "            auto_child = acf(data_df['Child'])\n",
    "            pval_parent = stats.linregress(data_df.index[:auto_len], auto_parent[:auto_len]).pvalue*len(swing_obj.gene_list)\n",
    "            pval_child = stats.linregress(data_df.index[:auto_len], auto_child[:auto_len]).pvalue*len(swing_obj.gene_list)\n",
    "            if pval_parent < p_thresh and pval_child < p_thresh:\n",
    "                perturb_df = data_df.iloc[perturb_idx:]\n",
    "                f, (ax1, ax2) = plt.subplots(1, 2, figsize=(15,5))\n",
    "                ax1.plot(perturb_df.index,  perturb_df['Parent'], 'o-', label=parent)\n",
    "                ax1.plot(perturb_df.index,  perturb_df['Child'], 'o-', label=child)\n",
    "                ax1.set_title(ee)\n",
    "                ax1.legend(loc='best')\n",
    "                ccf_forward = ccf(perturb_df['Parent'],  perturb_df['Child'])\n",
    "                ccf_reverse = ccf( perturb_df['Child'], perturb_df['Parent'])\n",
    "                diff = (ccf_forward-ccf_reverse)/range(1,len(perturb_df.index)+1)\n",
    "                diff = diff/np.max(np.abs(diff))\n",
    "                ax2.plot(perturb_df.index, ccf_forward, 'o-', c='c', label='forward')\n",
    "                ax2.plot(perturb_df.index, ccf_reverse, 'o-', c='m', label='reverse')\n",
    "                ax2.plot(perturb_df.index, diff, 'o-', c='k', label='diff')\n",
    "                ax2.set_ylim([-1, 1])\n",
    "                ax2.legend(loc='best')"
   ]
  },
  {
   "cell_type": "code",
   "execution_count": 14,
   "metadata": {
    "collapsed": false
   },
   "outputs": [],
   "source": [
    "def ac_tracks(experiments, auto_len=10):\n",
    "    \"\"\"Autocorrelate gene tracks for each experiment\n",
    "    \"\"\"\n",
    "    a = np.array([[acf(experiment[track]) for track in experiment]for experiment in experiments])\n",
    "    return a\n",
    "file_path = \"../data/dream4/insilico_size10_1_timeseries.tsv\"\n",
    "experiments=get_experiment_list(file_path)\n",
    "auto = ac_tracks(experiments)"
   ]
  },
  {
   "cell_type": "code",
   "execution_count": 15,
   "metadata": {
    "collapsed": false
   },
   "outputs": [
    {
     "data": {
      "text/plain": [
       "(5, 10, 21)"
      ]
     },
     "execution_count": 15,
     "metadata": {},
     "output_type": "execute_result"
    }
   ],
   "source": [
    "auto.shape"
   ]
  },
  {
   "cell_type": "code",
   "execution_count": null,
   "metadata": {
    "collapsed": true
   },
   "outputs": [],
   "source": []
  }
 ],
 "metadata": {
  "kernelspec": {
   "display_name": "Python 3",
   "language": "python",
   "name": "python3"
  },
  "language_info": {
   "codemirror_mode": {
    "name": "ipython",
    "version": 3
   },
   "file_extension": ".py",
   "mimetype": "text/x-python",
   "name": "python",
   "nbconvert_exporter": "python",
   "pygments_lexer": "ipython3",
   "version": "3.5.1"
  }
 },
 "nbformat": 4,
 "nbformat_minor": 0
}
