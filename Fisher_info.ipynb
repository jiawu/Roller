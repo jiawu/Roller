{
 "cells": [
  {
   "cell_type": "markdown",
   "metadata": {},
   "source": [
    "Initial tutorial and script courtesy of\n",
    "http://www.physics.ucdavis.edu/~dwittman/Fisher-matrix-guide.pdf"
   ]
  },
  {
   "cell_type": "code",
   "execution_count": 6,
   "metadata": {
    "collapsed": false
   },
   "outputs": [
    {
     "name": "stdout",
     "output_type": "stream",
     "text": [
      "[[ 0.00375 -0.00125]\n",
      " [-0.00125  0.00375]]\n"
     ]
    }
   ],
   "source": [
    "import numpy as np\n",
    "\n",
    "xvals = (-1,1, 1)\n",
    "sigmavals = (0.1,0.1,0.1)\n",
    "npar = 2\n",
    "F = np.zeros([npar,npar])\n",
    "for x,sigma in zip(xvals,sigmavals):\n",
    "    for i in range(npar):\n",
    "        if i==0:\n",
    "            dfdpi = x\n",
    "        else:\n",
    "            dfdpi = 1\n",
    "        for j in range(npar):\n",
    "            if j==0:\n",
    "                dfdpj = x\n",
    "            else:\n",
    "                dfdpj = 1\n",
    "            F[i,j] += sigma**-2*dfdpi*dfdpj\n",
    "        \n",
    "print (np.mat(F).I) # invert the matrix"
   ]
  },
  {
   "cell_type": "code",
   "execution_count": null,
   "metadata": {
    "collapsed": true
   },
   "outputs": [],
   "source": []
  }
 ],
 "metadata": {
  "kernelspec": {
   "display_name": "Python 3",
   "language": "python",
   "name": "python3"
  },
  "language_info": {
   "codemirror_mode": {
    "name": "ipython",
    "version": 3
   },
   "file_extension": ".py",
   "mimetype": "text/x-python",
   "name": "python",
   "nbconvert_exporter": "python",
   "pygments_lexer": "ipython3",
   "version": "3.4.3"
  }
 },
 "nbformat": 4,
 "nbformat_minor": 0
}
